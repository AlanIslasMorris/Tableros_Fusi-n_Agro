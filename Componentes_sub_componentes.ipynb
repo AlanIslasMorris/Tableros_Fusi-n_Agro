{
 "cells": [
  {
   "cell_type": "code",
   "execution_count": 95,
   "id": "cd934e1f",
   "metadata": {},
   "outputs": [],
   "source": [
    "import pandas as pd\n",
    "import numpy as np\n",
    "import matplotlib.pyplot as plt\n",
    "import seaborn as sns\n",
    "import math\n",
    "from matplotlib.lines import Line2D"
   ]
  },
  {
   "cell_type": "markdown",
   "id": "1fb20ec0",
   "metadata": {
    "hide_input": true
   },
   "source": [
    "# Carga de tablas "
   ]
  },
  {
   "cell_type": "code",
   "execution_count": 96,
   "id": "f5d34871",
   "metadata": {},
   "outputs": [],
   "source": [
    "# Load the XLSX files into Pandas dataframes\n",
    "Inventario = pd.read_excel('Inventarios/19-04.xlsx', skiprows=2)\n",
    "Ventas = pd.read_excel('Ventas/Ventas.xlsx', skiprows=2)\n",
    "Utilidad = pd.read_excel('Ventas/Utilidad.xlsx', skiprows=2)\n",
    "Cartera = pd.read_excel('Cartera/19-04.xlsx', skiprows=2)\n",
    "Egresos = pd.read_excel('Egresos/Egresos.xlsx', skiprows=2)\n",
    "Egresos_ = pd.read_excel('Egresos/Egresos_.xlsx', skiprows=2)\n",
    "Pendiente = pd.read_excel('Suministro/Pendiente.xlsx', skiprows=2)\n",
    "IQChemicals = pd.read_excel('IQChemicals/Otros.xlsx', skiprows=2)\n",
    "IQChemicals_mp = pd.read_excel('IQChemicals/Materia_prima.xlsx', skiprows=2)\n",
    "CxP = pd.read_excel('CxP/CxP.xlsx', skiprows=2)\n",
    "\n",
    "# Tabla auxiliar para traducir unidades en costo\n",
    "Pres_a_vol = pd.read_excel('Categorias/Presentacion_a_volumen.xlsx')\n",
    "Item_a_producto = pd.read_excel('Categorias/Item_a_producto.xlsx')\n",
    "Costos_unitarios = pd.read_excel('Costo_unitario/Costo.xlsx',skiprows=2)\n",
    "Producto = pd.read_excel('Categorias/Producto.xlsx')\n"
   ]
  },
  {
   "cell_type": "markdown",
   "id": "e69adf61",
   "metadata": {},
   "source": [
    "#La hoja de inventario IqChemicals, tiene dos tablas. Para el análisis, se consolidan en una:"
   ]
  },
  {
   "cell_type": "code",
   "execution_count": 97,
   "id": "3e5755b3",
   "metadata": {},
   "outputs": [],
   "source": [
    "IQChemicals_mp_otros = pd.concat([IQChemicals,IQChemicals_mp])"
   ]
  },
  {
   "cell_type": "markdown",
   "id": "94a462e5",
   "metadata": {},
   "source": [
    "Cartera, se desglosa en Vencida y corriente"
   ]
  },
  {
   "cell_type": "code",
   "execution_count": 98,
   "id": "1c59447e",
   "metadata": {},
   "outputs": [],
   "source": [
    "Cartera['ESTADO'] = np.where(Cartera['ANTIGUEDAD'] == '  VENCIDA', 'VENCIDA', 'CORRIENTE')"
   ]
  },
  {
   "cell_type": "markdown",
   "id": "e9887f03",
   "metadata": {},
   "source": [
    "Cartera corriente"
   ]
  },
  {
   "cell_type": "code",
   "execution_count": 99,
   "id": "42443c97",
   "metadata": {},
   "outputs": [],
   "source": [
    "Cartera_corriente = Cartera[Cartera['ESTADO'] == 'CORRIENTE']\n",
    "Cartera_vencida = Cartera[Cartera['ESTADO'] == 'VENCIDA']"
   ]
  },
  {
   "cell_type": "code",
   "execution_count": 100,
   "id": "dcba215d",
   "metadata": {},
   "outputs": [],
   "source": [
    "#Inventario, incluir columna de ABC\n",
    "\n",
    "Item_a_ABC = Item_a_producto.groupby(['Item','ABC']).size().reset_index()\n",
    "Inventario = Inventario.rename(columns = {'Número de artículo':'Item'})\n",
    "Inventario = Inventario.merge(Item_a_ABC, how = 'left', on = 'Item')"
   ]
  },
  {
   "cell_type": "code",
   "execution_count": 101,
   "id": "744476cf",
   "metadata": {},
   "outputs": [],
   "source": [
    "#Ventas, incluir columna de categoría\n",
    "\n",
    "Producto = Producto.groupby(['Producto_Ranking','Respaldo categorías']).size().reset_index()\n",
    "\n",
    "Producto['Producto_Ranking'] = Producto['Producto_Ranking'].str.upper().str[3:]\n",
    "\n",
    "Ventas['Producto_Ranking'] = Ventas['Producto_Ranking'].str[3:]\n",
    "Utilidad['Producto_Ranking'] = Utilidad['Producto_Ranking'].str[3:]\n"
   ]
  },
  {
   "cell_type": "markdown",
   "id": "794dcd66",
   "metadata": {},
   "source": [
    "Limpieza de homógos\n",
    "JUNIPERUS no es igual que JUNÍPERUS... LPG 456 REACTMAXX, no es igual que LPG 456 -REACTMAXX...\n",
    "La siguiente sección incluye algunos homólogos para que todos las filas crucen:"
   ]
  },
  {
   "cell_type": "code",
   "execution_count": 102,
   "id": "e3914f11",
   "metadata": {},
   "outputs": [],
   "source": [
    "# Listado de productos que no cruzaron originalmente (Limpieza de homólogos)\n",
    "Homologos_adicionales = pd.DataFrame({\n",
    "    'Producto_Ranking': ['JUNIPERUS STRESSOFF', 'SPROUD MAX', 'LPG 456 - REACTMAXX', 'AGROPLEXBMO STRESSOFF', \n",
    "                'KIT-CALIDAD-IQC', 'KIT-ESTRUCTURAL-IQC', 'OTROS'],\n",
    "    'Respaldo categorías': ['Bioestimulante', 'Cito', 'Cito', 'Bioestimulante', \n",
    "                 'Bioestimulante', 'Cito', 'Bioestimulante']\n",
    "})\n",
    "\n",
    "# append the corrected mapping to the producto dataframe\n",
    "Producto = pd.concat([Producto,Homologos_adicionales], ignore_index=True)\n",
    "\n"
   ]
  },
  {
   "cell_type": "code",
   "execution_count": 103,
   "id": "ec541333",
   "metadata": {},
   "outputs": [],
   "source": [
    "Ventas = Ventas.merge(Producto, on = 'Producto_Ranking', how = 'left')\n",
    "Utilidad = Utilidad.merge(Producto, on = 'Producto_Ranking', how = 'left')"
   ]
  },
  {
   "cell_type": "code",
   "execution_count": 104,
   "id": "82467dc2",
   "metadata": {},
   "outputs": [],
   "source": [
    "#Pendiente, incluir columna de categoría\n",
    "Item_a_categoría = Item_a_producto.groupby(['Item','Categoría']).size().reset_index()\n",
    "Pendiente = Pendiente.rename(columns = {'ITEMNMBR':'Item'})\n",
    "Pendiente = Pendiente.merge(Item_a_categoría, how = 'left', on = 'Item')"
   ]
  },
  {
   "cell_type": "code",
   "execution_count": 105,
   "id": "582dfeaa",
   "metadata": {},
   "outputs": [],
   "source": [
    "#IQChemicals_homologación de categorías\n",
    "\n",
    "# Create a new column with updated values\n",
    "IQChemicals_mp_otros['ALMACEN_'] = np.where(IQChemicals_mp_otros['ALMACEN'].isin(['ALMACEN DE PRODUCTO TERMINADO CHEMICALS', 'PRODUCTO TERMINADO TLAXCALA']),\n",
    "                                              'PRODUCTO TERMINADO',\n",
    "                                              IQChemicals_mp_otros['ALMACEN'])"
   ]
  },
  {
   "cell_type": "markdown",
   "id": "fd7008b2",
   "metadata": {},
   "source": [
    "# Indice de tablas"
   ]
  },
  {
   "cell_type": "code",
   "execution_count": 106,
   "id": "81765f9e",
   "metadata": {},
   "outputs": [],
   "source": [
    "#df - Ventas\n",
    "#df1 - Utilidad\n",
    "#df2 - Inventario\n",
    "#df3 - Cartera_vencida\n",
    "#df4 - Egresos\n",
    "#df5 - Pendiente\n",
    "#df6 - Costo\n",
    "#df7 - Inventario IQC\n",
    "#df8 - Cartera_corriente\n",
    "#df9 - CxP"
   ]
  },
  {
   "cell_type": "markdown",
   "id": "6e887fe7",
   "metadata": {},
   "source": [
    "# Homologación de nombres de columnas"
   ]
  },
  {
   "cell_type": "code",
   "execution_count": 107,
   "id": "1a631b44",
   "metadata": {},
   "outputs": [],
   "source": [
    "#Ventas 2023, valores superiores a cero, renombrar columnas\n",
    "Ventas = Ventas.rename(columns={\n",
    "       'Empresa Jerarquía - Zona Ranking_':'Zona',\n",
    "       'Empresa Jerarquía - RM/ REIQ_Ranking':'RM',\n",
    "       'Empresa Jerarquía - Cultivo_ranking':'Cultivo',\n",
    "       'ID_PRODUCTO':'Item', \n",
    "       \"'Base'[Mes]'\":\"Mes\",\n",
    "       'Ver selección':'Ventas',\n",
    "       'Respaldo categorías':'Nivel 2'\n",
    "                        }\n",
    "               )\n",
    "Ventas = Ventas[Ventas['Ventas'] > 0]"
   ]
  },
  {
   "cell_type": "code",
   "execution_count": 108,
   "id": "16362d6a",
   "metadata": {},
   "outputs": [],
   "source": [
    "#Utilidad 2023, renombrar columnas\n",
    "Utilidad = Utilidad.rename(columns={\n",
    "       'Empresa Jerarquía - Zona Ranking_':'Zona',\n",
    "       'Empresa Jerarquía - RM/ REIQ_Ranking':'RM',\n",
    "       'Empresa Jerarquía - Cultivo_ranking':'Cultivo',\n",
    "       'ID_PRODUCTO':'Item', \n",
    "       \"'Base'[Mes]'\":\"Mes\",\n",
    "       'Ver selección':'Utilidad',\n",
    "       'Respaldo categorías':'Nivel 2'\n",
    "                        }\n",
    "               )\n",
    "#Filtros de Utilidad 2023, valores superiores a cero\n",
    "Utilidad = Utilidad[Utilidad['Utilidad'] > 0]"
   ]
  },
  {
   "cell_type": "code",
   "execution_count": 109,
   "id": "3e97c5a6",
   "metadata": {},
   "outputs": [],
   "source": [
    "\n",
    "#Inventario, renombrar columnas\n",
    "Inventario = Inventario.rename(columns = {\n",
    "    'EMPRESA':'Empresa',\n",
    "    'VALOR INVENTARIO':'Inventario_valor',\n",
    "    'Número de artículo':'Item',\n",
    "    'ABC':'Nivel 2'\n",
    "    \n",
    "                                        }\n",
    "                              )\n",
    "#Filtros de Inventario, valores superiores a uno, \n",
    "\n",
    "Inventario = Inventario[Inventario['Inventario_valor'] > 0]"
   ]
  },
  {
   "cell_type": "code",
   "execution_count": 110,
   "id": "914fc276",
   "metadata": {},
   "outputs": [],
   "source": [
    "#Cartera vencida, renombrar columnas\n",
    "Cartera_vencida = Cartera_vencida.rename(columns = {\n",
    "    \"'VW_CxC_COM_V4'[EMPRESA]\":\"Empresa\",\n",
    "    \"Sum of TOTAL\":\"Cartera_vencida\",\n",
    "    \"ANTIGUEDAD\":\"Nivel 2\"\n",
    "                                        }\n",
    "                              )\n",
    "#Filtros de Cartera, valores superiores a uno, \n",
    "\n",
    "Cartera_vencida = Cartera_vencida[Cartera_vencida['Cartera_vencida'] > 0]"
   ]
  },
  {
   "cell_type": "code",
   "execution_count": 111,
   "id": "5bcade63",
   "metadata": {},
   "outputs": [],
   "source": [
    "#Cartera_corriente, renombrar columnas\n",
    "Cartera_corriente = Cartera_corriente.rename(columns = {\n",
    "    \"'VW_CxC_COM_V4'[EMPRESA]\":\"Empresa\",\n",
    "    \"Sum of TOTAL\":\"Cartera_corriente\",\n",
    "    \"ANTIGUEDAD\":\"Nivel 2\"\n",
    "                                        }\n",
    "                              )\n",
    "#Filtros de Cartera_corriente, valores superiores a uno, \n",
    "\n",
    "Cartera_corriente = Cartera_corriente[Cartera_corriente['Cartera_corriente'] > 0]"
   ]
  },
  {
   "cell_type": "code",
   "execution_count": 112,
   "id": "97a6fbbc",
   "metadata": {},
   "outputs": [],
   "source": [
    "#Egresos, renombrar columnas\n",
    "Egresos_ = Egresos_.rename(columns = {\n",
    "    \"NIVEL4\":\"Empresa\",\n",
    "    \"Sum of MONTO\":\"Egresos_monto\",\n",
    "    \"NIVEL2\":\"Nivel 2\"\n",
    "                                        }\n",
    "                              )\n",
    "#Filtros de Egresos, valores superiores a uno, \n",
    "\n",
    "Egresos_ = Egresos_[Egresos_['Egresos_monto'] > 0]\n",
    "Egresos_ = Egresos_[Egresos_['FUENTE'] == \"REAL\"]"
   ]
  },
  {
   "cell_type": "code",
   "execution_count": 113,
   "id": "12bacef1",
   "metadata": {},
   "outputs": [],
   "source": [
    "#Pendiente, renombrar columnas\n",
    "Pendiente = Pendiente.rename(columns = {\n",
    "    \"EMPRESA\":\"Empresa\",\n",
    "    \"Sum of PENDIENTE\":\"Unidades\",\n",
    "    \"PRESENTACION\":\"Presentación\",\n",
    "    \"Categoría\":\"Nivel 2\"\n",
    "                                        }\n",
    "                              )\n",
    "#Filtros de Egresos, valores superiores a uno, \n",
    "\n",
    "Pendiente = Pendiente[Pendiente['Unidades'] > 0]\n",
    "Formulaciones_a_excluir = ['AGE-21', 'AABC-22', 'ARP4-20', 'AC GL-22']\n",
    "Pendiente = Pendiente[~Pendiente['FORMULACION'].isin(Formulaciones_a_excluir)]"
   ]
  },
  {
   "cell_type": "code",
   "execution_count": 114,
   "id": "fe9009b8",
   "metadata": {},
   "outputs": [],
   "source": [
    "#Pres_a_vol, NO requiere renombrar columnas\n",
    "#Pres_a_vol.columns "
   ]
  },
  {
   "cell_type": "markdown",
   "id": "2ddf040d",
   "metadata": {},
   "source": [
    "Listado de cols:\n",
    "'Presentación', 'Vol aux'"
   ]
  },
  {
   "cell_type": "code",
   "execution_count": 115,
   "id": "8e7f3a5e",
   "metadata": {},
   "outputs": [],
   "source": [
    "#Costos_unitarios, renombrar columnas\n",
    "Costos_unitarios = Costos_unitarios.rename(columns = {\n",
    "    \"PRESENTACION\":\"Presentación\"\n",
    "                                        }\n",
    "                              )\n",
    "#Filtros de Costos_unitarios, valores superiores a uno, \n",
    "\n",
    "Costos_unitarios = Costos_unitarios[Costos_unitarios['Sum of K/L'] > 0]"
   ]
  },
  {
   "cell_type": "code",
   "execution_count": 116,
   "id": "b4cb5534",
   "metadata": {},
   "outputs": [],
   "source": [
    "#Costos_unitarios, renombrar columnas\n",
    "IQChemicals_mp_otros = IQChemicals_mp_otros.rename(columns = {\n",
    "    \"EMPRESA\":\"Empresa\",\n",
    "    \"VALOR INVENTARIO\":\"Inventario_IQC_Valor\",\n",
    "    \"ALMACEN_\":\"Nivel 2\"\n",
    "                                        }\n",
    "                              )\n",
    "#Filtros de Costos_unitarios, valores superiores a uno, \n",
    "\n",
    "IQChemicals_mp_otros = IQChemicals_mp_otros[IQChemicals_mp_otros['Inventario_IQC_Valor'] > 0]"
   ]
  },
  {
   "cell_type": "code",
   "execution_count": 117,
   "id": "3a10f105",
   "metadata": {},
   "outputs": [
    {
     "data": {
      "text/plain": [
       "Index(['GPO', 'EMPRESA', 'RUBRO', 'PROVEEDOR', 'TOTAL', 'TIPOS'], dtype='object')"
      ]
     },
     "execution_count": 117,
     "metadata": {},
     "output_type": "execute_result"
    }
   ],
   "source": [
    "CxP.columns"
   ]
  },
  {
   "cell_type": "code",
   "execution_count": 118,
   "id": "796c8281",
   "metadata": {},
   "outputs": [],
   "source": [
    "#CxP, renombrar columnas\n",
    "CxP = CxP.rename(columns = {\n",
    "    \"EMPRESA\":\"Empresa\",\n",
    "    \"TOTAL\":\"CxP\",\n",
    "    \"RUBRO\":\"Nivel 2\"\n",
    "                                        }\n",
    "                              )\n",
    "#Filtros de Costos_unitarios, valores superiores a uno, \n",
    "\n",
    "CxP = CxP[CxP['CxP'] > 0]"
   ]
  },
  {
   "cell_type": "markdown",
   "id": "4d0e5683",
   "metadata": {
    "hide_input": true
   },
   "source": [
    "# Tabla auxiliar para pasar de unidades a costo"
   ]
  },
  {
   "cell_type": "code",
   "execution_count": 119,
   "id": "8783893f",
   "metadata": {},
   "outputs": [],
   "source": [
    "#Costo por formulación y presentación\n",
    "Costos_unitarios = Costos_unitarios.groupby(['FORMULACION','Presentación'])['COSTOUNITREAL.'].mean().reset_index()"
   ]
  },
  {
   "cell_type": "code",
   "execution_count": 120,
   "id": "6fbbba2a",
   "metadata": {},
   "outputs": [],
   "source": [
    "# Costos NO incluidos en tablero.\n",
    "new_data = pd.DataFrame({\n",
    "    'FORMULACION': ['APLG-21', 'BRXCO-21', 'AV5G-22', 'AV5G-22', 'BTR-22'],\n",
    "    'Presentación': ['1X200', '12X1', '1X20', '4X5', '4X5'],\n",
    "    'COSTOUNITREAL.': [20, 70, 80, 80, 200]\n",
    "})\n",
    "\n",
    "# Se consolida tabla para que no haya valores en blanco al cruzar con Pendiente\n",
    "Costos_unitarios = pd.concat([Costos_unitarios, new_data], ignore_index=True)\n"
   ]
  },
  {
   "cell_type": "code",
   "execution_count": 121,
   "id": "1c7c6f6b",
   "metadata": {},
   "outputs": [],
   "source": [
    "#Factor de volumenn por presentación\n",
    "Pres_a_vol_ = Pres_a_vol.groupby(['Presentación'])['Vol aux'].mean().reset_index()"
   ]
  },
  {
   "cell_type": "code",
   "execution_count": 122,
   "id": "fcd7bd5b",
   "metadata": {},
   "outputs": [],
   "source": [
    "#Unidades a volumen\n",
    "Pendiente = Pendiente.merge(Pres_a_vol_, on = 'Presentación', how = 'left')\n",
    "Pendiente['Volumen'] = Pendiente['Vol aux']*Pendiente['Unidades']\n",
    "# Volumen a costo\n",
    "Pendiente = Pendiente.merge(Costos_unitarios, on = ['FORMULACION', 'Presentación'], how = 'left')\n",
    "Pendiente['Pendiente_valor'] = Pendiente['Volumen']*Pendiente['COSTOUNITREAL.']"
   ]
  },
  {
   "cell_type": "markdown",
   "id": "b713686c",
   "metadata": {},
   "source": [
    "# Agrupar componentes financieros por empresa"
   ]
  },
  {
   "cell_type": "code",
   "execution_count": 123,
   "id": "a4775759",
   "metadata": {},
   "outputs": [],
   "source": [
    "# group Ventas por empresa\n",
    "df = Ventas.groupby(['Empresa','Nivel 2'])['Ventas'].sum().reset_index()\n",
    "df['Fuente'] = \"Ventas\""
   ]
  },
  {
   "cell_type": "code",
   "execution_count": 124,
   "id": "b23cf459",
   "metadata": {},
   "outputs": [],
   "source": [
    "# group Utilidad por empresa\n",
    "df1 = Utilidad.groupby(['Empresa','Nivel 2'])['Utilidad'].sum().reset_index()\n",
    "df1['Fuente'] = \"Utilidad\""
   ]
  },
  {
   "cell_type": "code",
   "execution_count": 125,
   "id": "97c2ff8e",
   "metadata": {},
   "outputs": [],
   "source": [
    "# group Inventario por empresa\n",
    "df2 = Inventario.groupby(['Empresa','Nivel 2'])['Inventario_valor'].sum().reset_index()\n",
    "df2['Fuente'] = \"Inventario_valor\"\n",
    "df2 = df2.rename(columns = {'Inventario_valor':'Valor'})"
   ]
  },
  {
   "cell_type": "code",
   "execution_count": 126,
   "id": "11babad0",
   "metadata": {},
   "outputs": [
    {
     "data": {
      "text/html": [
       "<div>\n",
       "<style scoped>\n",
       "    .dataframe tbody tr th:only-of-type {\n",
       "        vertical-align: middle;\n",
       "    }\n",
       "\n",
       "    .dataframe tbody tr th {\n",
       "        vertical-align: top;\n",
       "    }\n",
       "\n",
       "    .dataframe thead th {\n",
       "        text-align: right;\n",
       "    }\n",
       "</style>\n",
       "<table border=\"1\" class=\"dataframe\">\n",
       "  <thead>\n",
       "    <tr style=\"text-align: right;\">\n",
       "      <th></th>\n",
       "      <th>GPO</th>\n",
       "      <th>Empresa</th>\n",
       "      <th>ZONA</th>\n",
       "      <th>CLIENTE</th>\n",
       "      <th>CATEGORIA</th>\n",
       "      <th>Cartera_vencida</th>\n",
       "      <th>Nivel 2</th>\n",
       "      <th>ESTADO</th>\n",
       "    </tr>\n",
       "  </thead>\n",
       "  <tbody>\n",
       "    <tr>\n",
       "      <th>6</th>\n",
       "      <td>GRUPO</td>\n",
       "      <td>INT</td>\n",
       "      <td>Ecu,Col</td>\n",
       "      <td>AGRICOLAS ANTIOQUIA SAS</td>\n",
       "      <td>AdStrong</td>\n",
       "      <td>2.044621e+06</td>\n",
       "      <td>VENCIDA</td>\n",
       "      <td>VENCIDA</td>\n",
       "    </tr>\n",
       "    <tr>\n",
       "      <th>8</th>\n",
       "      <td>GRUPO</td>\n",
       "      <td>CAC</td>\n",
       "      <td>Zona 2</td>\n",
       "      <td>AGRICOLA PISCIS SA</td>\n",
       "      <td>AdStrong</td>\n",
       "      <td>1.764476e+06</td>\n",
       "      <td>VENCIDA</td>\n",
       "      <td>VENCIDA</td>\n",
       "    </tr>\n",
       "    <tr>\n",
       "      <th>9</th>\n",
       "      <td>GRUPO</td>\n",
       "      <td>IQCHEM</td>\n",
       "      <td>REIQ</td>\n",
       "      <td>CORPORATIVO TXAO</td>\n",
       "      <td>ReactMaxx</td>\n",
       "      <td>1.320918e+06</td>\n",
       "      <td>VENCIDA</td>\n",
       "      <td>VENCIDA</td>\n",
       "    </tr>\n",
       "    <tr>\n",
       "      <th>11</th>\n",
       "      <td>GRUPO</td>\n",
       "      <td>IQCHEM</td>\n",
       "      <td>REIQ</td>\n",
       "      <td>CORPORATIVO TXAO</td>\n",
       "      <td>StressOff</td>\n",
       "      <td>1.305532e+06</td>\n",
       "      <td>VENCIDA</td>\n",
       "      <td>VENCIDA</td>\n",
       "    </tr>\n",
       "    <tr>\n",
       "      <th>18</th>\n",
       "      <td>GRUPO</td>\n",
       "      <td>CAC</td>\n",
       "      <td>Zona 2</td>\n",
       "      <td>AGROASA</td>\n",
       "      <td>ReactMaxx</td>\n",
       "      <td>1.113007e+06</td>\n",
       "      <td>VENCIDA</td>\n",
       "      <td>VENCIDA</td>\n",
       "    </tr>\n",
       "  </tbody>\n",
       "</table>\n",
       "</div>"
      ],
      "text/plain": [
       "      GPO Empresa     ZONA                  CLIENTE  CATEGORIA  \\\n",
       "6   GRUPO     INT  Ecu,Col  AGRICOLAS ANTIOQUIA SAS   AdStrong   \n",
       "8   GRUPO     CAC   Zona 2       AGRICOLA PISCIS SA   AdStrong   \n",
       "9   GRUPO  IQCHEM     REIQ         CORPORATIVO TXAO  ReactMaxx   \n",
       "11  GRUPO  IQCHEM     REIQ         CORPORATIVO TXAO  StressOff   \n",
       "18  GRUPO     CAC   Zona 2                  AGROASA  ReactMaxx   \n",
       "\n",
       "    Cartera_vencida    Nivel 2   ESTADO  \n",
       "6      2.044621e+06    VENCIDA  VENCIDA  \n",
       "8      1.764476e+06    VENCIDA  VENCIDA  \n",
       "9      1.320918e+06    VENCIDA  VENCIDA  \n",
       "11     1.305532e+06    VENCIDA  VENCIDA  \n",
       "18     1.113007e+06    VENCIDA  VENCIDA  "
      ]
     },
     "execution_count": 126,
     "metadata": {},
     "output_type": "execute_result"
    }
   ],
   "source": [
    "Cartera_vencida.head()"
   ]
  },
  {
   "cell_type": "code",
   "execution_count": 127,
   "id": "3cbd7c32",
   "metadata": {},
   "outputs": [],
   "source": [
    "# group Cartera por empresa\n",
    "df3 = Cartera_vencida.groupby(['Empresa','Nivel 2'])['Cartera_vencida'].sum().reset_index()\n",
    "df3['Fuente'] = \"Cartera_vencida\"\n",
    "df3 = df3.rename(columns = {'Cartera_vencida':'Valor'})"
   ]
  },
  {
   "cell_type": "code",
   "execution_count": 128,
   "id": "f6f4121d",
   "metadata": {},
   "outputs": [],
   "source": [
    "# group Egresos por empresa\n",
    "df4 = Egresos_.groupby(['Empresa','Nivel 2'])['Egresos_monto'].sum().reset_index()\n",
    "df4['Fuente'] = \"Egresos_monto\"\n",
    "df4 = df4.rename(columns = {'Egresos_monto':'Valor'})"
   ]
  },
  {
   "cell_type": "code",
   "execution_count": 129,
   "id": "5d0825ac",
   "metadata": {},
   "outputs": [],
   "source": [
    "# group Pendiente por empresa\n",
    "df5 = Pendiente.groupby(['Empresa','Nivel 2'])['Pendiente_valor'].sum().reset_index()\n",
    "df5['Fuente'] = \"Pendiente_valor\"\n",
    "df5 = df5.rename(columns = {'Pendiente_valor':'Valor'})"
   ]
  },
  {
   "cell_type": "markdown",
   "id": "86c583f9",
   "metadata": {},
   "source": [
    "# Costo"
   ]
  },
  {
   "cell_type": "code",
   "execution_count": 130,
   "id": "922233a0",
   "metadata": {},
   "outputs": [],
   "source": [
    "# Combinar Utilidad y Ventas\n",
    "df_merged = pd.merge(df, df1, on=['Empresa', 'Nivel 2'], how='left')\n",
    "\n",
    "\n",
    "# Calcular Costo como diferencia de Ventas e Utilidad\n",
    "df_merged['Costo'] = df_merged['Ventas'] - df_merged['Utilidad']\n",
    "\n",
    "# Agrupar Costo por Empresa\n",
    "df6 = df_merged.groupby(['Empresa','Nivel 2'])['Costo'].sum().reset_index()\n",
    "df6['Fuente'] = \"Costo\"\n",
    "df6 = df6.rename(columns = {'Costo':'Valor'})"
   ]
  },
  {
   "cell_type": "markdown",
   "id": "8f5d9f97",
   "metadata": {},
   "source": [
    "Agregar columna Fuente en Ventas e Utilidad\n",
    "Se agregó después porque esas columnas iban a utilizarse para la tabla de costos"
   ]
  },
  {
   "cell_type": "code",
   "execution_count": 131,
   "id": "d32f108f",
   "metadata": {},
   "outputs": [],
   "source": [
    "df_ = df.rename(columns = {'Ventas':'Valor'})\n",
    "df1_ = df1.rename(columns = {'Utilidad':'Valor'})"
   ]
  },
  {
   "cell_type": "markdown",
   "id": "bd8172cc",
   "metadata": {},
   "source": [
    "# Inventario IQC valor"
   ]
  },
  {
   "cell_type": "code",
   "execution_count": 132,
   "id": "d6562e54",
   "metadata": {},
   "outputs": [],
   "source": [
    "# group Inventario IQC por empresa\n",
    "df7 = IQChemicals_mp_otros.groupby(['Empresa','Nivel 2'])['Inventario_IQC_Valor'].sum().reset_index()\n",
    "df7['Fuente'] = \"Inventario_IQC_Valor\"\n",
    "df7 = df7.rename(columns = {'Inventario_IQC_Valor':'Valor'})"
   ]
  },
  {
   "cell_type": "code",
   "execution_count": 133,
   "id": "2f25daf8",
   "metadata": {},
   "outputs": [],
   "source": [
    "# group Cartera corriente\n",
    "df8 = Cartera_corriente.groupby(['Empresa','Nivel 2'])['Cartera_corriente'].sum().reset_index()\n",
    "df8['Fuente'] = \"Cartera_corriente\"\n",
    "df8 = df8.rename(columns = {'Cartera_corriente':'Valor'})\n"
   ]
  },
  {
   "cell_type": "code",
   "execution_count": 134,
   "id": "3b7725c6",
   "metadata": {},
   "outputs": [],
   "source": [
    "# group CxP\n",
    "df9 = CxP.groupby(['Empresa','Nivel 2'])['CxP'].sum().reset_index()\n",
    "df9['Fuente'] = \"CxP\"\n",
    "df9 = df9.rename(columns = {'CxP':'Valor'})"
   ]
  },
  {
   "cell_type": "markdown",
   "id": "b34ce418",
   "metadata": {},
   "source": [
    "# Componentes financieros consolidados"
   ]
  },
  {
   "cell_type": "code",
   "execution_count": 135,
   "id": "1552d731",
   "metadata": {},
   "outputs": [],
   "source": [
    "dfs = [df_, df1_, df2, df3, df4, df5, df6, df7, df8, df9]\n",
    "cols = ['Empresa', 'Nivel 2', 'Fuente', 'Valor']\n",
    "df_merged = pd.concat(dfs, axis=0)\n",
    "\n"
   ]
  },
  {
   "cell_type": "markdown",
   "id": "21e3faf0",
   "metadata": {},
   "source": [
    "# Categorías de componentes"
   ]
  },
  {
   "cell_type": "code",
   "execution_count": 136,
   "id": "78e3384d",
   "metadata": {},
   "outputs": [],
   "source": [
    "# Define the conditions and categories\n",
    "conditions = [df_merged['Fuente'].isin(['Ventas', 'Utilidad']),\n",
    "    df_merged['Fuente'].isin(['Egresos_monto', 'Costo', 'CxP']),\n",
    "    df_merged['Fuente'].isin(['Cartera_vencida', 'Cartera_corriente','Inventario_valor', 'Pendiente_valor','Inventario_IQC_Valor'])\n",
    "]\n",
    "\n",
    "categories = ['01 Ingresos','02 Egresos','03 Inventario y Cartera']\n",
    "\n",
    "# Apply the conditions and categories to create a new \"Category\" column\n",
    "df_merged['Categoria'] = np.select(conditions, categories)"
   ]
  },
  {
   "cell_type": "code",
   "execution_count": 137,
   "id": "9b78c289",
   "metadata": {},
   "outputs": [],
   "source": [
    "df_merged.to_csv('Componentes_financieros_nivel_2.csv')"
   ]
  },
  {
   "cell_type": "code",
   "execution_count": null,
   "id": "be51fdfd",
   "metadata": {},
   "outputs": [],
   "source": []
  }
 ],
 "metadata": {
  "hide_input": false,
  "kernelspec": {
   "display_name": "Python 3",
   "language": "python",
   "name": "python3"
  },
  "language_info": {
   "codemirror_mode": {
    "name": "ipython",
    "version": 3
   },
   "file_extension": ".py",
   "mimetype": "text/x-python",
   "name": "python",
   "nbconvert_exporter": "python",
   "pygments_lexer": "ipython3",
   "version": "3.8.8"
  }
 },
 "nbformat": 4,
 "nbformat_minor": 5
}
