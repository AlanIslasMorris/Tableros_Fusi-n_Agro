{
 "cells": [
  {
   "cell_type": "code",
   "execution_count": 1414,
   "id": "1db09701",
   "metadata": {},
   "outputs": [],
   "source": [
    "import pandas as pd\n",
    "import numpy as np\n",
    "import matplotlib.pyplot as plt\n",
    "import seaborn as sns\n",
    "import math\n",
    "from matplotlib.lines import Line2D\n",
    "import os"
   ]
  },
  {
   "cell_type": "markdown",
   "id": "d8932b6a",
   "metadata": {},
   "source": [
    "# Carpeta en la que se ubican las tablas a integrar"
   ]
  },
  {
   "cell_type": "code",
   "execution_count": 1415,
   "id": "cd934e1f",
   "metadata": {},
   "outputs": [
    {
     "name": "stdout",
     "output_type": "stream",
     "text": [
      "C:\\Users\\alan.islas\\ownCloud\\Fuentes de tableros\n"
     ]
    }
   ],
   "source": [
    "print(os.getcwd())"
   ]
  },
  {
   "cell_type": "markdown",
   "id": "1fb20ec0",
   "metadata": {
    "hide_input": true
   },
   "source": [
    "# Carga de tablas "
   ]
  },
  {
   "cell_type": "code",
   "execution_count": 1416,
   "id": "f5d34871",
   "metadata": {},
   "outputs": [
    {
     "name": "stderr",
     "output_type": "stream",
     "text": [
      "C:\\Users\\alan.islas\\Anaconda3\\lib\\site-packages\\openpyxl\\styles\\stylesheet.py:221: UserWarning: Workbook contains no default style, apply openpyxl's default\n",
      "  warn(\"Workbook contains no default style, apply openpyxl's default\")\n",
      "C:\\Users\\alan.islas\\Anaconda3\\lib\\site-packages\\openpyxl\\styles\\stylesheet.py:221: UserWarning: Workbook contains no default style, apply openpyxl's default\n",
      "  warn(\"Workbook contains no default style, apply openpyxl's default\")\n",
      "C:\\Users\\alan.islas\\Anaconda3\\lib\\site-packages\\openpyxl\\styles\\stylesheet.py:221: UserWarning: Workbook contains no default style, apply openpyxl's default\n",
      "  warn(\"Workbook contains no default style, apply openpyxl's default\")\n",
      "C:\\Users\\alan.islas\\Anaconda3\\lib\\site-packages\\openpyxl\\styles\\stylesheet.py:221: UserWarning: Workbook contains no default style, apply openpyxl's default\n",
      "  warn(\"Workbook contains no default style, apply openpyxl's default\")\n",
      "C:\\Users\\alan.islas\\Anaconda3\\lib\\site-packages\\openpyxl\\styles\\stylesheet.py:221: UserWarning: Workbook contains no default style, apply openpyxl's default\n",
      "  warn(\"Workbook contains no default style, apply openpyxl's default\")\n"
     ]
    }
   ],
   "source": [
    "# Load the XLSX files into Pandas dataframes\n",
    "# La primera parte es la subcarpeta, después de la barra, /, el nombre del archivo\n",
    "Inventario = pd.read_excel('Inventarios/25-04.xlsx', skiprows=2)\n",
    "Ventas = pd.read_excel('Ventas/Ventas.xlsx', skiprows=2)\n",
    "Utilidad = pd.read_excel('Ventas/Utilidad.xlsx', skiprows=2)\n",
    "Cartera = pd.read_excel('Cartera/25-04.xlsx', skiprows=2)\n",
    "Egresos = pd.read_excel('Egresos/Egresos.xlsx', skiprows=2)\n",
    "Egresos_ = pd.read_excel('Egresos/Egresos_.xlsx', skiprows=2)\n",
    "Pendiente = pd.read_excel('Suministro/Pendiente.xlsx', skiprows=2)\n",
    "IQChemicals = pd.read_excel('IQChemicals/Otros.xlsx', skiprows=2)\n",
    "IQChemicals_mp = pd.read_excel('IQChemicals/Materia_prima.xlsx', skiprows=2)\n",
    "CxP = pd.read_excel('CxP/CxP.xlsx', skiprows=2)\n",
    "Forecast = pd.read_excel('Forecast/Forecast.xlsx')\n",
    "\n",
    "# Cobranza por empresa\n",
    "Cobranza_MX= pd.read_excel('Cobranza/Mx.xlsx', skiprows=1)\n",
    "Cobranza_MX['Empresa']= \"MX\"\n",
    "Cobranza_CAC = pd.read_excel('Cobranza/CAC.xlsx', skiprows=1)\n",
    "Cobranza_CAC['Empresa']= \"CAC\"\n",
    "Cobranza_SUD = pd.read_excel('Cobranza/SUD.xlsx', skiprows=1)\n",
    "Cobranza_SUD['Empresa']= \"SUD\"\n",
    "Cobranza_IQC = pd.read_excel('Cobranza/IQC.xlsx', skiprows=1)\n",
    "Cobranza_IQC['Empresa']= \"IQC\"\n",
    "Cobranza_INT = pd.read_excel('Cobranza/INT.xlsx', skiprows=1)\n",
    "Cobranza_INT['Empresa']= \"INT\"\n",
    "Cobranza = pd.concat([Cobranza_MX, Cobranza_CAC, Cobranza_SUD, Cobranza_IQC, Cobranza_INT])\n",
    "Cobranza = Cobranza[Cobranza['7 FlujosA'] == '2 Cobranza']\n",
    "Flujo = pd.concat([Cobranza_MX, Cobranza_CAC, Cobranza_SUD, Cobranza_IQC, Cobranza_INT])\n",
    "Flujo = Flujo[Flujo['7 FlujosA'] == '1 Flujo Neto Generado']\n",
    "\n",
    "# Tabla auxiliar para traducir unidades en costo\n",
    "Pres_a_vol = pd.read_excel('Categorias/Presentacion_a_volumen.xlsx')\n",
    "Item_a_producto = pd.read_excel('Categorias/Item_a_producto.xlsx')\n",
    "Costos_unitarios = pd.read_excel('Costo_unitario/Costo.xlsx',skiprows=2)\n",
    "Producto = pd.read_excel('Categorias/Producto.xlsx')\n",
    "\n"
   ]
  },
  {
   "cell_type": "code",
   "execution_count": 1417,
   "id": "574054db",
   "metadata": {},
   "outputs": [],
   "source": [
    "Zona = pd.read_excel('Categorias/Zona.xlsx')"
   ]
  },
  {
   "cell_type": "markdown",
   "id": "3b75e405",
   "metadata": {},
   "source": [
    "# Revisión de Tablas consideradas y columnas disponibles"
   ]
  },
  {
   "cell_type": "markdown",
   "id": "afe3fb69",
   "metadata": {},
   "source": [
    "Campos disponible:\n",
    "Se muestra nombre de columna y primera fila,"
   ]
  },
  {
   "cell_type": "code",
   "execution_count": 1418,
   "id": "bcdd386e",
   "metadata": {},
   "outputs": [
    {
     "name": "stdout",
     "output_type": "stream",
     "text": [
      "---------Inventario---------\n",
      "CATEGORIA                         StressOff\n",
      "GPO_INV                 JUNIPERUS STRESSOFF\n",
      "PRESENTACION                           1X20\n",
      "EMPRESA                                  MX\n",
      "Número de artículo            JUNIPERUS1X20\n",
      "Sum of KL_INVENTARIO                  14700\n",
      "KL_FORECAST                               0\n",
      "Sum of VENTAS_INV              1147264.6605\n",
      "VENTAS_FORECAST                         0.0\n",
      "VARIACIONF                            14700\n",
      "VALOR INVENTARIO                 408513.294\n",
      "Name: 0, dtype: object\n",
      "---------Ventas---------\n",
      "RETENUM                                             RETENUM\n",
      "Empresa                                                 CAC\n",
      "Empresa Jerarquía - Zona Ranking_                 03 Zona 2\n",
      "Empresa Jerarquía - RM/ REIQ_Ranking     08 Agrícola Piscis\n",
      "Empresa Jerarquía - Cultivo_ranking               03 BANANO\n",
      "ID_PRODUCTO                                AGGB10%4X5-CENCR\n",
      "'Base'[Mes]                                               1\n",
      "Ver selección                                     6918750.0\n",
      "Plan                                                    NaN\n",
      "PlanN                                                   NaN\n",
      "Producto_Ranking                        08 ACIGGIB ADSTRONG\n",
      "Name: 0, dtype: object\n",
      "---------Utilidad---------\n",
      "RETENUM                                             RETENUM\n",
      "Empresa                                                 CAC\n",
      "Empresa Jerarquía - Zona Ranking_                 03 Zona 2\n",
      "Empresa Jerarquía - RM/ REIQ_Ranking     08 Agrícola Piscis\n",
      "Empresa Jerarquía - Cultivo_ranking               03 BANANO\n",
      "ID_PRODUCTO                                AGGB10%4X5-CENCR\n",
      "'Base'[Mes]                                               1\n",
      "Ver selección                                    3356001.15\n",
      "Plan                                                    NaN\n",
      "PlanN                                                   NaN\n",
      "Producto_Ranking                        08 ACIGGIB ADSTRONG\n",
      "Name: 0, dtype: object\n",
      "---------Cartera---------\n",
      "GPO                                      GRUPO\n",
      "'VW_CxC_COM_V4'[EMPRESA]                   CAC\n",
      "ZONA                                    Zona 2\n",
      "CLIENTE                     AGRICOLA PISCIS SA\n",
      "CATEGORIA                             AdStrong\n",
      "Sum of TOTAL                         6918750.0\n",
      "ANTIGUEDAD                           A 30 DIAS\n",
      "Name: 0, dtype: object\n",
      "---------Egresos_---------\n",
      "NIVEL1             EGRESOS\n",
      "NIVEL2            PERSONAL\n",
      "NIVEL3           SERVICIOS\n",
      "NIVEL4                LASA\n",
      "NIVEL5            PERSONAL\n",
      "Sum of MONTO    7684603.95\n",
      "FUENTE                REAL\n",
      "% TOTAL           0.151687\n",
      "Name: 0, dtype: object\n",
      "---------Pendiente---------\n",
      "EMPRESA                                                    MX\n",
      "PONUMBER                                             23/00078\n",
      "FORMULACION                                           AABC-22\n",
      "'VW_COMPRAS_dETALLE_DIAS_EMPRESAS'[PRESENTACION]         12X1\n",
      "ITEMNMBR                                              ABC12X1\n",
      "DOCDATE                                             2/20/2023\n",
      "FACTURA                                                   NaN\n",
      "DOCDATEF                                                  NaN\n",
      "Sum of SOLICITADO                                        2004\n",
      "Sum of ENTREGADO                                            0\n",
      "Sum of PENDIENTE                                         2004\n",
      "Sum of CANCELADO                                            0\n",
      "Average of DIAS_ENTREGA                                   NaN\n",
      "Name: 0, dtype: object\n",
      "---------IQChemicals---------\n",
      "EMPRESA                                                          CHEMI\n",
      "ALMACEN                        ALMACEN DE PRODUCTO TERMINADO CHEMICALS\n",
      "Código de ubicación                                         INTERNATIO\n",
      "Descripción artículo              ACIGGIB 10% REGULADOR DE CRECIMIENTO\n",
      "VALOR INVENTARIO                                            1020227.19\n",
      "%% EMPRESAS                                                   0.879616\n",
      "Sum of Cant. en existencias                                      123.0\n",
      "Name: 0, dtype: object\n",
      "---------IqChemicals_mp---------\n",
      "EMPRESA                                CHEMI\n",
      "ALMACEN                        MATERIA PRIMA\n",
      "FAMILIA                                  NaN\n",
      "GPO                                    OTROS\n",
      "Descripción artículo                    PAPA\n",
      "VALOR INVENTARIO                   -0.007753\n",
      "%% EMPRESAS                              1.0\n",
      "Sum of Cant. en existencias         -0.01846\n",
      "Name: 0, dtype: object\n",
      "---------CxP---------\n",
      "GPO                                GRUPO\n",
      "EMPRESA                              SUD\n",
      "RUBRO                        CONSUMIBLES\n",
      "PROVEEDOR    3PLS FULFILLMENT CENTER SPA\n",
      "TOTAL                        58221.56765\n",
      "TIPOS                          EN EL MES\n",
      "Name: 0, dtype: object\n",
      "---------Forecast---------\n",
      "RM                              19 AGRICA\n",
      "Producto_       01 AGROMIL PLUS REACTMAXX\n",
      "Cultivo                   FLORES DE CORTE\n",
      "Presentación                         12X1\n",
      "Mes                                     4\n",
      "Volumen                             120.0\n",
      "Producto        01 AGROMIL PLUS REACTMAXX\n",
      "Venta                            73166.15\n",
      "Costo                        10968.556715\n",
      "Name: 0, dtype: object\n",
      "---------Cobranza---------\n",
      "7 FlujosA     1 Flujo Neto Generado\n",
      "REAL                    33950160.91\n",
      "PLAN                    31850676.25\n",
      "VARIACION               -2099484.66\n",
      "Empresa                          MX\n",
      "Name: 0, dtype: object\n"
     ]
    }
   ],
   "source": [
    "#Muestra los headers de cada tabla:\n",
    "print(\"---------Inventario---------\")\n",
    "print(Inventario.iloc[0,:])\n",
    "print(\"---------Ventas---------\")\n",
    "print(Ventas.iloc[0,:])\n",
    "print(\"---------Utilidad---------\")\n",
    "print(Utilidad.iloc[0,:])\n",
    "print(\"---------Cartera---------\")\n",
    "print(Cartera.iloc[0,:])\n",
    "print(\"---------Egresos_---------\")\n",
    "print(Egresos_.iloc[0,:])\n",
    "print(\"---------Pendiente---------\")\n",
    "print(Pendiente.iloc[0,:])\n",
    "print(\"---------IQChemicals---------\")\n",
    "print(IQChemicals.iloc[0,:])\n",
    "print(\"---------IqChemicals_mp---------\")\n",
    "print(IQChemicals_mp.iloc[0,:])\n",
    "print(\"---------CxP---------\")\n",
    "print(CxP.iloc[0,:])\n",
    "print(\"---------Forecast---------\")\n",
    "print(Forecast.iloc[0,:])\n",
    "print(\"---------Cobranza---------\")\n",
    "print(Cobranza_MX.iloc[0,:])"
   ]
  },
  {
   "cell_type": "markdown",
   "id": "317c600d",
   "metadata": {},
   "source": [
    "# Limpieza y proceso de tablas para integrar la base de componentes financieros"
   ]
  },
  {
   "cell_type": "markdown",
   "id": "e69adf61",
   "metadata": {},
   "source": [
    "##### La hoja de inventario IqChemicals, tiene dos tablas. Para el análisis, se consolidan en una:"
   ]
  },
  {
   "cell_type": "code",
   "execution_count": 1419,
   "id": "3e5755b3",
   "metadata": {},
   "outputs": [],
   "source": [
    "IQChemicals_mp_otros = pd.concat([IQChemicals,IQChemicals_mp])"
   ]
  },
  {
   "cell_type": "markdown",
   "id": "94a462e5",
   "metadata": {},
   "source": [
    "Cartera, se desglosa en Vencida y corriente"
   ]
  },
  {
   "cell_type": "code",
   "execution_count": 1420,
   "id": "1c59447e",
   "metadata": {},
   "outputs": [],
   "source": [
    "Cartera['ESTADO'] = np.where(Cartera['ANTIGUEDAD'] == '  VENCIDA', 'VENCIDA', 'CORRIENTE')\n",
    "\n",
    "Cartera_corriente = Cartera[Cartera['ESTADO'] == 'CORRIENTE']\n",
    "Cartera_vencida = Cartera[Cartera['ESTADO'] == 'VENCIDA']"
   ]
  },
  {
   "cell_type": "code",
   "execution_count": 1421,
   "id": "dcba215d",
   "metadata": {},
   "outputs": [],
   "source": [
    "#Inventario, incluir columna de ABC\n",
    "\n",
    "Item_a_ABC = Item_a_producto.groupby(['Item','ABC']).size().reset_index()\n",
    "Inventario = Inventario.rename(columns = {'Número de artículo':'Item'})\n",
    "Inventario = Inventario.merge(Item_a_ABC, how = 'left', on = 'Item')"
   ]
  },
  {
   "cell_type": "code",
   "execution_count": 1422,
   "id": "d5f4cfa3",
   "metadata": {},
   "outputs": [],
   "source": [
    "#Pendiente, renombrar columna\n",
    "Pendiente = Pendiente.rename(columns = {\"'VW_COMPRAS_dETALLE_DIAS_EMPRESAS'[PRESENTACION]\":\"PRESENTACION\"})\n"
   ]
  },
  {
   "cell_type": "markdown",
   "id": "acbbad96",
   "metadata": {},
   "source": [
    "#### Homologar nombres"
   ]
  },
  {
   "cell_type": "code",
   "execution_count": 1423,
   "id": "76810abd",
   "metadata": {},
   "outputs": [],
   "source": [
    "#replacements_zona = {\n",
    "#    '03 Zona 2': '05 Zona 2',\n",
    "#   '10 EUA': '08 EUA',\n",
    "#    '08 Sud 1': '07 Zona 1',\n",
    "#    '06 Zona 1': '06 Propios',\n",
    "#    '02 Pacífico': '03 Sureste',\n",
    "#    '10 EUA': '02 Pacífico',\n",
    "#    '04 Sureste': '01 Norte',\n",
    "#    '05 Propios': '04 Chile/Perú',\n",
    "#    '10 Ecu,Col': '08 Ecu,Col',\n",
    "#    '05 REIQ': '06 REIQ'\n",
    "#}\n",
    "\n",
    "#Zona['Zona_Ranking'] = Zona['Zona_Ranking'].replace(replacements_zona)\n"
   ]
  },
  {
   "cell_type": "code",
   "execution_count": 1424,
   "id": "195f8308",
   "metadata": {},
   "outputs": [],
   "source": [
    "# Limpieza de nombres de productos en Producto\n",
    "Producto['Producto_Ranking'] = Producto['Producto_Ranking'].where(Producto['Producto_Ranking'].str.contains('^.{3}[\\s-]'), Producto['Producto_Ranking'].str.slice(3))\n",
    "replacements = {\n",
    "    'Sacaromax': 'Sacaromax',\n",
    "    'acaromax': 'Sacaromax',\n",
    "    'Zeolita': 'Zeolita',\n",
    "    'eolita': 'Zeolita',\n",
    "    'Valmiton': 'Valmiton',\n",
    "    'almiton': 'Valmiton',\n",
    "    'GROKIN BIO': 'AGROKIN BIO',\n",
    "    'gromil Plus': 'Agromil Plus',\n",
    "    'MO StressOff':'BMO StressOff',\n",
    "    'GROPLEXBMOStressOff':'AGROPLEXBMOStressOff',\n",
    "    'IOMKT AM':'BIOMKT AM',\n",
    "    'IOMKT AL':'BIOMKT AL',\n",
    "    'EUILLAJE':'FEUILLAJE',\n",
    "    'EUILLAJE AMZN':'FEUILLAJE AMZN',\n",
    "    'EUILLAJE COMPLET':'FEUILLAJE COMPLET',\n",
    "    'EUILLAJE ENHANCE':'FEUILLAJE ENHANCE',\n",
    "    'EUILLAJE OPTIM':'FEUILLAJE OPTIM',\n",
    "    'ORNIRE':'FORNIRE',\n",
    "    'qKit Calidad':'IqKit Calidad',\n",
    "    'qKit Estructural':'IqKit Estructural',\n",
    "    'RT MAX':'BRT MAX'\n",
    "}\n",
    "\n",
    "Producto['Producto_Ranking'] = Producto['Producto_Ranking'].replace(replacements)\n",
    "Producto['Producto_Ranking'] = Producto['Producto_Ranking'].str.upper()\n",
    "\n"
   ]
  },
  {
   "cell_type": "code",
   "execution_count": 1425,
   "id": "6aee8dc4",
   "metadata": {},
   "outputs": [],
   "source": [
    "# Limpieza de nombres de productos en Forecast\n",
    "Forecast['Producto'] = Forecast['Producto'].where(Forecast['Producto'].str.contains('^.{3}[\\s-]'), Forecast['Producto'].str.slice(3))\n",
    "replacements_Forecast = {\n",
    "    'Sacaromax': 'Sacaromax',\n",
    "    'acaromax': 'Sacaromax',\n",
    "    'Zeolita': 'Zeolita',\n",
    "    'eolita': 'Zeolita',\n",
    "    'Valmiton': 'Valmiton',\n",
    "    'almiton': 'Valmiton',\n",
    "    'GROKIN BIO': 'AGROKIN BIO',\n",
    "    'gromil Plus': 'Agromil Plus',\n",
    "    'MO StressOff':'BMO StressOff',\n",
    "    'GROPLEXBMOStressOff':'AGROPLEXBMOStressOff',\n",
    "    'IOMKT AM':'BIOMKT AM',\n",
    "    'IOMKT AL':'BIOMKT AL',\n",
    "    'EUILLAJE':'FEUILLAJE',\n",
    "    'EUILLAJE AMZN':'FEUILLAJE AMZN',\n",
    "    'EUILLAJE COMPLET':'FEUILLAJE COMPLET',\n",
    "    'EUILLAJE ENHANCE':'FEUILLAJE ENHANCE',\n",
    "    'EUILLAJE OPTIM':'FEUILLAJE OPTIM',\n",
    "    'ORNIRE':'FORNIRE',\n",
    "    'qKit Calidad':'IqKit Calidad',\n",
    "    'qKit Estructural':'IqKit Estructural',\n",
    "    'RT MAX':'BRT MAX',\n",
    "    'QKIT CALIDAD':'IqKit Calidad',\n",
    "    'QKIT ESTRUCTURAL':'IqKit Estructural',\n",
    "    'LITA I': 'Zeolita',\n",
    "    'RX COLOR':'BRX COLOR'\n",
    "}\n",
    "\n",
    "Forecast['Producto'] = Forecast['Producto'].replace(replacements_Forecast)\n",
    "\n",
    "\n",
    "# Rename the column\n",
    "Forecast = Forecast.rename(columns={'Producto': 'Producto_Ranking'})\n",
    "Forecast['Producto_Ranking'] = Forecast['Producto_Ranking'].str.upper()\n"
   ]
  },
  {
   "cell_type": "code",
   "execution_count": 1426,
   "id": "65688abb",
   "metadata": {},
   "outputs": [],
   "source": [
    "# Limpieza de nombres de empresas en Forecast\n",
    "replacements_Zona_Empresa = {\n",
    "    'México': 'MX',\n",
    "    'IqChem':'IQC',\n",
    "    'Intnl':'INT' \n",
    "}\n",
    "\n",
    "Zona['Empresa'] = Zona['Empresa'].replace(replacements_Zona_Empresa)\n",
    "\n",
    "\n"
   ]
  },
  {
   "cell_type": "code",
   "execution_count": 1427,
   "id": "744476cf",
   "metadata": {},
   "outputs": [],
   "source": [
    "#Ventas e utilidad, incluir columna de categoría\n",
    "\n",
    "#Hoja de producto a horizonte y categoría, se agrupa en producto y categoría p.ej. Plus es Cito\n",
    "Producto = Producto.groupby(['Producto_Ranking','Respaldo categorías']).size().reset_index()\n",
    "\n",
    "#Homologación de nombres\n",
    "#Quitar primeras tres letras y poner en mayúsculas p.ej. 01 Agromil Plus ReactMaxx a AGROMIL PLUS REACTMAXX\n",
    "Ventas['Producto_Ranking'] = Ventas['Producto_Ranking'].str[3:]\n",
    "Utilidad['Producto_Ranking'] = Utilidad['Producto_Ranking'].str[3:]\n"
   ]
  },
  {
   "cell_type": "markdown",
   "id": "794dcd66",
   "metadata": {},
   "source": [
    "Limpieza de homógos\n",
    "JUNIPERUS no es igual que JUNÍPERUS... LPG 456 REACTMAXX, no es igual que LPG 456 -REACTMAXX...\n",
    "La siguiente sección incluye algunos homólogos para que todos las filas crucen:"
   ]
  },
  {
   "cell_type": "code",
   "execution_count": 1428,
   "id": "e3914f11",
   "metadata": {},
   "outputs": [],
   "source": [
    "# Listado de productos que no cruzaron originalmente (Limpieza de homólogos)\n",
    "Homologos_adicionales = pd.DataFrame({\n",
    "    'Producto_Ranking': ['JUNIPERUS STRESSOFF', 'SPROUD MAX', 'LPG 456 - REACTMAXX', 'AGROPLEXBMO STRESSOFF', \n",
    "                'KIT-CALIDAD-IQC', 'KIT-ESTRUCTURAL-IQC', 'OTROS'],\n",
    "    'Respaldo categorías': ['Bioestimulante', 'Cito', 'Cito', 'Bioestimulante', \n",
    "                 'Bioestimulante', 'Cito', 'Bioestimulante']\n",
    "})\n",
    "\n",
    "# Agregar Homologos_adicionales a tabla Producto:\n",
    "Producto = pd.concat([Producto,Homologos_adicionales], ignore_index=True)\n",
    "\n"
   ]
  },
  {
   "cell_type": "code",
   "execution_count": 1429,
   "id": "1d69f3e4",
   "metadata": {},
   "outputs": [],
   "source": [
    "Zona = Zona.groupby(['Empresa','Zona_Ranking','RM/ REIQ_Ranking'])['Rtnm'].apply(lambda x: (x == 1).sum())\n",
    "Zona = Zona.reset_index()\n",
    "Zona['RM/ REIQ_Ranking'] = Zona['RM/ REIQ_Ranking'].str[3:]\n",
    "Zona['RM/ REIQ_Ranking'] = Zona['RM/ REIQ_Ranking'].str.upper()\n"
   ]
  },
  {
   "cell_type": "code",
   "execution_count": 1430,
   "id": "b7a73539",
   "metadata": {},
   "outputs": [],
   "source": [
    "# Limpieza de nombres de productos en Zona\n",
    "replacements_Zona = {\n",
    "    'ENCER': 'MENCER',\n",
    "    'NTEROC' : 'INTEROC',\n",
    "    'QC' : 'TQC',\n",
    "    'OX' : 'COX'\n",
    "}\n",
    "\n",
    "Zona['RM/ REIQ_Ranking'] = Zona['RM/ REIQ_Ranking'].replace(replacements_Zona)\n"
   ]
  },
  {
   "cell_type": "code",
   "execution_count": 1431,
   "id": "ec541333",
   "metadata": {},
   "outputs": [],
   "source": [
    "# Inclusión de columna categorías (Cito, Raíz, Bioestimulante...) en hoja de Ventas e Utilidad\n",
    "Ventas = Ventas.merge(Producto, on = 'Producto_Ranking', how = 'left')\n",
    "Utilidad = Utilidad.merge(Producto, on = 'Producto_Ranking', how = 'left')\n",
    "Forecast = Forecast.merge(Producto, on = 'Producto_Ranking', how = 'left')\n",
    "Forecast = Forecast.rename(columns = {'RM':'RM/ REIQ_Ranking'})\n",
    "Forecast['RM/ REIQ_Ranking'] = Forecast['RM/ REIQ_Ranking'].str[3:]\n",
    "Forecast = Forecast.merge(Zona, on = 'RM/ REIQ_Ranking', how = 'left')\n",
    "Forecast['Costo'] = Forecast.apply(lambda x: x['Venta']/2 if pd.isna(x['Costo']) or x['Costo']==0 else x['Costo'], axis=1)\n",
    "Forecast['Utilidad'] = Forecast['Venta'] - Forecast['Costo']\n",
    "\n",
    "\n",
    "\n"
   ]
  },
  {
   "cell_type": "code",
   "execution_count": 1432,
   "id": "82467dc2",
   "metadata": {},
   "outputs": [],
   "source": [
    "#Pendiente, incluir columna de categoría\n",
    "Item_a_categoría = Item_a_producto.groupby(['Item','Categoría']).size().reset_index()\n",
    "Pendiente = Pendiente.rename(columns = {'ITEMNMBR':'Item'})\n",
    "Pendiente = Pendiente.merge(Item_a_categoría, how = 'left', on = 'Item')"
   ]
  },
  {
   "cell_type": "code",
   "execution_count": 1433,
   "id": "582dfeaa",
   "metadata": {},
   "outputs": [],
   "source": [
    "#IQChemicals_homologación de categorías\n",
    "\n",
    "# Para facilitar la lectura, se homologan algunos campos\n",
    "IQChemicals_mp_otros['ALMACEN_'] = np.where(IQChemicals_mp_otros['ALMACEN'].isin(['ALMACEN DE PRODUCTO TERMINADO CHEMICALS', 'PRODUCTO TERMINADO TLAXCALA']),\n",
    "                                              'PRODUCTO TERMINADO',\n",
    "                                              IQChemicals_mp_otros['ALMACEN'])"
   ]
  },
  {
   "cell_type": "markdown",
   "id": "fd7008b2",
   "metadata": {},
   "source": [
    "# Indice de tablas"
   ]
  },
  {
   "cell_type": "code",
   "execution_count": 1434,
   "id": "81765f9e",
   "metadata": {},
   "outputs": [],
   "source": [
    "#df - Ventas\n",
    "#df1 - Utilidad\n",
    "#df2 - Inventario\n",
    "#df3 - Cartera_vencida\n",
    "#df4 - Egresos\n",
    "#df5 - Pendiente\n",
    "#df6 - Costo\n",
    "#df7 - Inventario IQC\n",
    "#df8 - Cartera_corriente\n",
    "#df9 - CxP\n",
    "#df10 - Solicitado\n",
    "#df11 - Forecast Utilidad\n",
    "#df12 - Forecast Venta\n",
    "#d13 - Cobranza\n",
    "#df14 - Flujo"
   ]
  },
  {
   "cell_type": "markdown",
   "id": "6e887fe7",
   "metadata": {},
   "source": [
    "# Homologación de nombres de columnas"
   ]
  },
  {
   "cell_type": "code",
   "execution_count": 1435,
   "id": "1a631b44",
   "metadata": {},
   "outputs": [],
   "source": [
    "#Ventas 2023, valores superiores a cero, renombrar columnas\n",
    "Ventas = Ventas.rename(columns={\n",
    "       'Empresa Jerarquía - Zona Ranking_':'Zona',\n",
    "       'Empresa Jerarquía - RM/ REIQ_Ranking':'RM',\n",
    "       'Empresa Jerarquía - Cultivo_ranking':'Cultivo',\n",
    "       'ID_PRODUCTO':'Item', \n",
    "       \"'Base'[Mes]'\":\"Mes\",\n",
    "       'Ver selección':'Ventas',\n",
    "       'Respaldo categorías':'Nivel 2'\n",
    "                        }\n",
    "               )\n",
    "Ventas = Ventas[Ventas['Ventas'] > 0]"
   ]
  },
  {
   "cell_type": "code",
   "execution_count": 1436,
   "id": "16362d6a",
   "metadata": {},
   "outputs": [],
   "source": [
    "#Utilidad 2023, renombrar columnas\n",
    "Utilidad = Utilidad.rename(columns={\n",
    "       'Empresa Jerarquía - Zona Ranking_':'Zona',\n",
    "       'Empresa Jerarquía - RM/ REIQ_Ranking':'RM',\n",
    "       'Empresa Jerarquía - Cultivo_ranking':'Cultivo',\n",
    "       'ID_PRODUCTO':'Item', \n",
    "       \"'Base'[Mes]'\":\"Mes\",\n",
    "       'Ver selección':'Utilidad',\n",
    "       'Respaldo categorías':'Nivel 2'\n",
    "                        }\n",
    "               )\n",
    "#Filtros de Utilidad 2023, valores superiores a cero\n",
    "Utilidad = Utilidad[Utilidad['Utilidad'] > 0]"
   ]
  },
  {
   "cell_type": "code",
   "execution_count": 1437,
   "id": "bcf2a921",
   "metadata": {},
   "outputs": [],
   "source": [
    "#Forecast 2023, renombrar columnas\n",
    "Forecast = Forecast.rename(columns={\n",
    "       'Zona_Ranking':'Zona',\n",
    "       'RM/ REIQ_Ranking':'RM',\n",
    "       'Respaldo categorías':'Nivel 2'\n",
    "                        }\n",
    "               )\n",
    "#Filtros de Forecast, valores superiores a cero\n",
    "Forecast = Forecast[Forecast['Utilidad'] > 0]\n",
    "Forecast = Forecast[(Forecast['Mes'] > 3)&(Forecast['Mes'] < 7)]"
   ]
  },
  {
   "cell_type": "code",
   "execution_count": 1438,
   "id": "3e97c5a6",
   "metadata": {},
   "outputs": [],
   "source": [
    "\n",
    "#Inventario, renombrar columnas\n",
    "Inventario = Inventario.rename(columns = {\n",
    "    'EMPRESA':'Empresa',\n",
    "    'VALOR INVENTARIO':'Inventario_valor',\n",
    "    'Número de artículo':'Item',\n",
    "    'ABC':'Nivel 2'\n",
    "    \n",
    "                                        }\n",
    "                              )\n",
    "#Filtros de Inventario, valores superiores a uno, \n",
    "\n",
    "Inventario = Inventario[Inventario['Inventario_valor'] > 0]"
   ]
  },
  {
   "cell_type": "code",
   "execution_count": 1439,
   "id": "914fc276",
   "metadata": {},
   "outputs": [],
   "source": [
    "#Cartera vencida, renombrar columnas\n",
    "Cartera_vencida = Cartera_vencida.rename(columns = {\n",
    "    \"'VW_CxC_COM_V4'[EMPRESA]\":\"Empresa\",\n",
    "    \"Sum of TOTAL\":\"Cartera_vencida\",\n",
    "    \"ANTIGUEDAD\":\"Nivel 2\"\n",
    "                                        }\n",
    "                              )\n",
    "#Filtros de Cartera, valores superiores a uno, \n",
    "\n",
    "Cartera_vencida = Cartera_vencida[Cartera_vencida['Cartera_vencida'] > 0]"
   ]
  },
  {
   "cell_type": "code",
   "execution_count": 1440,
   "id": "5bcade63",
   "metadata": {},
   "outputs": [],
   "source": [
    "#Cartera_corriente, renombrar columnas\n",
    "Cartera_corriente = Cartera_corriente.rename(columns = {\n",
    "    \"'VW_CxC_COM_V4'[EMPRESA]\":\"Empresa\",\n",
    "    \"Sum of TOTAL\":\"Cartera_corriente\",\n",
    "    \"ANTIGUEDAD\":\"Nivel 2\"\n",
    "                                        }\n",
    "                              )\n",
    "#Filtros de Cartera_corriente, valores superiores a uno, \n",
    "\n",
    "Cartera_corriente = Cartera_corriente[Cartera_corriente['Cartera_corriente'] > 0]"
   ]
  },
  {
   "cell_type": "code",
   "execution_count": 1441,
   "id": "97a6fbbc",
   "metadata": {},
   "outputs": [],
   "source": [
    "#Egresos, renombrar columnas\n",
    "Egresos_ = Egresos_.rename(columns = {\n",
    "    \"NIVEL4\":\"Empresa\",\n",
    "    \"Sum of MONTO\":\"Egresos_monto\",\n",
    "    \"NIVEL2\":\"Nivel 2\"\n",
    "                                        }\n",
    "                              )\n",
    "#Filtros de Egresos, valores superiores a uno, \n",
    "\n",
    "Egresos_ = Egresos_[Egresos_['Egresos_monto'] > 0]\n",
    "Egresos_ = Egresos_[Egresos_['FUENTE'] == \"REAL\"]"
   ]
  },
  {
   "cell_type": "code",
   "execution_count": 1442,
   "id": "12bacef1",
   "metadata": {},
   "outputs": [],
   "source": [
    "#Pendiente, renombrar columnas\n",
    "Pendiente = Pendiente.rename(columns = {\n",
    "    \"EMPRESA\":\"Empresa\",\n",
    "    \"Sum of PENDIENTE\":\"Unidades\",\n",
    "    \"PRESENTACION\":\"Presentación\",\n",
    "    \"Categoría\":\"Nivel 2\",\n",
    "    \"Sum of SOLICITADO\":\"Unidades_\"\n",
    "                                        }\n",
    "                              )\n",
    "#Filtros de Egresos, valores superiores a uno, \n",
    "\n",
    "\n",
    "Formulaciones_a_excluir = ['AGE-21', 'AABC-22', 'ARP4-20', 'AC GL-22']\n",
    "Pendiente = Pendiente[~Pendiente['FORMULACION'].isin(Formulaciones_a_excluir)]"
   ]
  },
  {
   "cell_type": "code",
   "execution_count": 1443,
   "id": "fe9009b8",
   "metadata": {},
   "outputs": [],
   "source": [
    "#Pres_a_vol, NO requiere renombrar columnas\n",
    "#Pres_a_vol.columns "
   ]
  },
  {
   "cell_type": "markdown",
   "id": "2ddf040d",
   "metadata": {},
   "source": [
    "Listado de cols:\n",
    "'Presentación', 'Vol aux'"
   ]
  },
  {
   "cell_type": "code",
   "execution_count": 1444,
   "id": "8e7f3a5e",
   "metadata": {},
   "outputs": [],
   "source": [
    "#Costos_unitarios, renombrar columnas\n",
    "Costos_unitarios = Costos_unitarios.rename(columns = {\n",
    "    \"PRESENTACION\":\"Presentación\"\n",
    "                                        }\n",
    "                              )\n",
    "#Filtros de Costos_unitarios, valores superiores a uno, \n",
    "\n",
    "Costos_unitarios = Costos_unitarios[Costos_unitarios['Sum of K/L'] > 0]"
   ]
  },
  {
   "cell_type": "code",
   "execution_count": 1445,
   "id": "b4cb5534",
   "metadata": {},
   "outputs": [],
   "source": [
    "#Costos_unitarios, renombrar columnas\n",
    "IQChemicals_mp_otros = IQChemicals_mp_otros.rename(columns = {\n",
    "    \"EMPRESA\":\"Empresa\",\n",
    "    \"VALOR INVENTARIO\":\"Inventario_IQC_Valor\",\n",
    "    \"ALMACEN_\":\"Nivel 2\"\n",
    "                                        }\n",
    "                              )\n",
    "#Filtros de Costos_unitarios, valores superiores a uno, \n",
    "\n",
    "IQChemicals_mp_otros = IQChemicals_mp_otros[IQChemicals_mp_otros['Inventario_IQC_Valor'] > 0]"
   ]
  },
  {
   "cell_type": "code",
   "execution_count": 1446,
   "id": "796c8281",
   "metadata": {},
   "outputs": [],
   "source": [
    "#CxP, renombrar columnas\n",
    "CxP = CxP.rename(columns = {\n",
    "    \"EMPRESA\":\"Empresa\",\n",
    "    \"TOTAL\":\"CxP\",\n",
    "    \"RUBRO\":\"Nivel 2\"\n",
    "                                        }\n",
    "                              )\n",
    "#Filtros de Costos_unitarios, valores superiores a uno, \n",
    "\n",
    "CxP = CxP[CxP['CxP'] > 0]"
   ]
  },
  {
   "cell_type": "markdown",
   "id": "4d0e5683",
   "metadata": {
    "hide_input": true
   },
   "source": [
    "#### Tabla auxiliar para pasar de unidades a costo, para calcular valor de Pendiente por entregar y Valor de \"Solicitado\"."
   ]
  },
  {
   "cell_type": "code",
   "execution_count": 1447,
   "id": "8783893f",
   "metadata": {},
   "outputs": [],
   "source": [
    "#Costo por formulación y presentación\n",
    "Costos_unitarios = Costos_unitarios.groupby(['FORMULACION','Presentación'])['COSTOUNITREAL.'].mean().reset_index()"
   ]
  },
  {
   "cell_type": "code",
   "execution_count": 1448,
   "id": "cc6e64db",
   "metadata": {},
   "outputs": [],
   "source": [
    "# Costos NO incluidos en tablero.\n",
    "new_data = pd.DataFrame({\n",
    "    'FORMULACION': ['APLG-21', 'BRXCO-21', 'AV5G-22', 'AV5G-22', 'BTR-22'],\n",
    "    'Presentación': ['1X200', '12X1', '1X20', '4X5', '4X5'],\n",
    "    'COSTOUNITREAL.': [20, 70, 80, 80, 200]\n",
    "})\n",
    "\n",
    "# Se consolida tabla para que no haya valores en blanco al cruzar con Pendiente\n",
    "Costos_unitarios = pd.concat([Costos_unitarios, new_data], ignore_index=True)\n"
   ]
  },
  {
   "cell_type": "code",
   "execution_count": 1449,
   "id": "1c7c6f6b",
   "metadata": {},
   "outputs": [],
   "source": [
    "#Factor de volumenn por presentación\n",
    "Pres_a_vol_ = Pres_a_vol.groupby(['Presentación'])['Vol aux'].mean().reset_index()"
   ]
  },
  {
   "cell_type": "code",
   "execution_count": 1450,
   "id": "fcd7bd5b",
   "metadata": {},
   "outputs": [],
   "source": [
    "#Unidades a volumen\n",
    "Pendiente = Pendiente.merge(Pres_a_vol_, on = 'Presentación', how = 'left')\n",
    "Pendiente['Volumen'] = Pendiente['Vol aux']*Pendiente['Unidades']\n",
    "Pendiente['Volumen_'] = Pendiente['Vol aux']*Pendiente['Unidades_']\n",
    "# Volumen a costo\n",
    "Pendiente = Pendiente.merge(Costos_unitarios, on = ['FORMULACION', 'Presentación'], how = 'left')\n",
    "Pendiente['Pendiente_valor'] = Pendiente['Volumen']*Pendiente['COSTOUNITREAL.']\n",
    "Pendiente['Pendiente_solicitado'] = Pendiente['Volumen_']*Pendiente['COSTOUNITREAL.']\n",
    "Pendiente.to_csv('Pend_vs_Sol.csv')"
   ]
  },
  {
   "cell_type": "code",
   "execution_count": 1451,
   "id": "74760897",
   "metadata": {},
   "outputs": [
    {
     "data": {
      "text/html": [
       "<div>\n",
       "<style scoped>\n",
       "    .dataframe tbody tr th:only-of-type {\n",
       "        vertical-align: middle;\n",
       "    }\n",
       "\n",
       "    .dataframe tbody tr th {\n",
       "        vertical-align: top;\n",
       "    }\n",
       "\n",
       "    .dataframe thead th {\n",
       "        text-align: right;\n",
       "    }\n",
       "</style>\n",
       "<table border=\"1\" class=\"dataframe\">\n",
       "  <thead>\n",
       "    <tr style=\"text-align: right;\">\n",
       "      <th></th>\n",
       "      <th>7 FlujosA</th>\n",
       "      <th>REAL</th>\n",
       "      <th>PLAN</th>\n",
       "      <th>VARIACION</th>\n",
       "      <th>Empresa</th>\n",
       "    </tr>\n",
       "  </thead>\n",
       "  <tbody>\n",
       "    <tr>\n",
       "      <th>1</th>\n",
       "      <td>2 Cobranza</td>\n",
       "      <td>60231803.93</td>\n",
       "      <td>67887903.0</td>\n",
       "      <td>7656099.07</td>\n",
       "      <td>MX</td>\n",
       "    </tr>\n",
       "    <tr>\n",
       "      <th>1</th>\n",
       "      <td>2 Cobranza</td>\n",
       "      <td>21345478.02</td>\n",
       "      <td>23069157.0</td>\n",
       "      <td>1723678.98</td>\n",
       "      <td>CAC</td>\n",
       "    </tr>\n",
       "    <tr>\n",
       "      <th>1</th>\n",
       "      <td>2 Cobranza</td>\n",
       "      <td>18669154.19</td>\n",
       "      <td>16897125.0</td>\n",
       "      <td>-1772029.19</td>\n",
       "      <td>SUD</td>\n",
       "    </tr>\n",
       "    <tr>\n",
       "      <th>1</th>\n",
       "      <td>2 Cobranza</td>\n",
       "      <td>5106598.30</td>\n",
       "      <td>11921856.0</td>\n",
       "      <td>6815257.70</td>\n",
       "      <td>IQC</td>\n",
       "    </tr>\n",
       "    <tr>\n",
       "      <th>1</th>\n",
       "      <td>2 Cobranza</td>\n",
       "      <td>1931924.95</td>\n",
       "      <td>3439396.0</td>\n",
       "      <td>1507471.05</td>\n",
       "      <td>INT</td>\n",
       "    </tr>\n",
       "  </tbody>\n",
       "</table>\n",
       "</div>"
      ],
      "text/plain": [
       "    7 FlujosA         REAL        PLAN  VARIACION  Empresa\n",
       "1  2 Cobranza  60231803.93  67887903.0  7656099.07      MX\n",
       "1  2 Cobranza  21345478.02  23069157.0  1723678.98     CAC\n",
       "1  2 Cobranza  18669154.19  16897125.0 -1772029.19     SUD\n",
       "1  2 Cobranza   5106598.30  11921856.0  6815257.70     IQC\n",
       "1  2 Cobranza   1931924.95   3439396.0  1507471.05     INT"
      ]
     },
     "execution_count": 1451,
     "metadata": {},
     "output_type": "execute_result"
    }
   ],
   "source": [
    "Cobranza.head()"
   ]
  },
  {
   "cell_type": "code",
   "execution_count": 1452,
   "id": "c2399275",
   "metadata": {},
   "outputs": [],
   "source": [
    "#Cobranza, renombrar columnas\n",
    "Cobranza = Cobranza.rename(columns = {\n",
    "    \"7 FlujosA\":\"Fuente\",\n",
    "    \"REAL\":\"Cobranza\"\n",
    "                                        }\n",
    "                              )\n"
   ]
  },
  {
   "cell_type": "code",
   "execution_count": 1453,
   "id": "7c85a896",
   "metadata": {},
   "outputs": [],
   "source": [
    "#Flujo, renombrar columnas\n",
    "Flujo = Flujo.rename(columns = {\n",
    "    \"7 FlujosA\":\"Fuente\",\n",
    "    \"REAL\":\"Flujo\"\n",
    "                                        }\n",
    "                              )"
   ]
  },
  {
   "cell_type": "markdown",
   "id": "b713686c",
   "metadata": {},
   "source": [
    "# Agrupar componentes financieros por empresa"
   ]
  },
  {
   "cell_type": "code",
   "execution_count": 1454,
   "id": "a4775759",
   "metadata": {},
   "outputs": [],
   "source": [
    "# group Ventas por empresa\n",
    "df = Ventas.groupby(['Empresa','Nivel 2'])['Ventas'].sum().reset_index()\n",
    "df['Fuente'] = \"Ventas\""
   ]
  },
  {
   "cell_type": "code",
   "execution_count": 1455,
   "id": "b23cf459",
   "metadata": {},
   "outputs": [],
   "source": [
    "# group Utilidad por empresa\n",
    "df1 = Utilidad.groupby(['Empresa','Nivel 2'])['Utilidad'].sum().reset_index()\n",
    "df1['Fuente'] = \"Utilidad\""
   ]
  },
  {
   "cell_type": "code",
   "execution_count": 1456,
   "id": "97c2ff8e",
   "metadata": {},
   "outputs": [],
   "source": [
    "# group Inventario por empresa\n",
    "df2 = Inventario.groupby(['Empresa','Nivel 2'])['Inventario_valor'].sum().reset_index()\n",
    "df2['Fuente'] = \"Inventario_valor\"\n",
    "df2 = df2.rename(columns = {'Inventario_valor':'Valor'})"
   ]
  },
  {
   "cell_type": "code",
   "execution_count": 1457,
   "id": "3cbd7c32",
   "metadata": {},
   "outputs": [],
   "source": [
    "# group Cartera por empresa\n",
    "df3 = Cartera_vencida.groupby(['Empresa','Nivel 2'])['Cartera_vencida'].sum().reset_index()\n",
    "df3['Fuente'] = \"Cartera_vencida\"\n",
    "df3 = df3.rename(columns = {'Cartera_vencida':'Valor'})"
   ]
  },
  {
   "cell_type": "code",
   "execution_count": 1458,
   "id": "f6f4121d",
   "metadata": {},
   "outputs": [],
   "source": [
    "# group Egresos por empresa\n",
    "df4 = Egresos_.groupby(['Empresa','Nivel 2'])['Egresos_monto'].sum().reset_index()\n",
    "df4['Fuente'] = \"Egresos_monto\"\n",
    "df4 = df4.rename(columns = {'Egresos_monto':'Valor'})"
   ]
  },
  {
   "cell_type": "code",
   "execution_count": 1459,
   "id": "5d0825ac",
   "metadata": {},
   "outputs": [],
   "source": [
    "# group Pendiente por empresa\n",
    "df5 = Pendiente.groupby(['Empresa','Nivel 2'])['Pendiente_valor'].sum().reset_index()\n",
    "df5['Fuente'] = \"Pendiente\"\n",
    "df5 = df5.rename(columns = {'Pendiente_valor':'Valor'})"
   ]
  },
  {
   "cell_type": "code",
   "execution_count": 1460,
   "id": "2d66b2ae",
   "metadata": {},
   "outputs": [],
   "source": [
    "# group Solicitado por empresa\n",
    "df10 = Pendiente.groupby(['Empresa','Nivel 2'])['Pendiente_solicitado'].sum().reset_index()\n",
    "df10['Fuente'] = \"Solicitado\"\n",
    "df10 = df10.rename(columns = {'Pendiente_solicitado':'Valor'})"
   ]
  },
  {
   "cell_type": "code",
   "execution_count": 1461,
   "id": "e37313b3",
   "metadata": {},
   "outputs": [],
   "source": [
    "# group Forecast Utilidad por empresa\n",
    "df11 = Forecast.groupby(['Empresa','Nivel 2'])['Utilidad'].sum().reset_index()\n",
    "df11['Fuente'] = \"F 2Q U\"\n",
    "df11 = df11.rename(columns = {'Utilidad':'Valor'})"
   ]
  },
  {
   "cell_type": "code",
   "execution_count": 1462,
   "id": "bee1aa57",
   "metadata": {},
   "outputs": [],
   "source": [
    "# group Forecast Venta por empresa\n",
    "df12 = Forecast.groupby(['Empresa','Nivel 2'])['Venta'].sum().reset_index()\n",
    "df12['Fuente'] = \"F 2Q V\"\n",
    "df12 = df12.rename(columns = {'Venta':'Valor'})"
   ]
  },
  {
   "cell_type": "code",
   "execution_count": 1463,
   "id": "6ee18e16",
   "metadata": {},
   "outputs": [],
   "source": [
    "# group Cobranza por empresa\n",
    "df13 = Cobranza.groupby(['Empresa'])['Cobranza'].sum().reset_index()\n",
    "df13['Fuente'] = \"Cobranza\"\n",
    "df13 = df13.rename(columns = {'Cobranza':'Valor'})"
   ]
  },
  {
   "cell_type": "code",
   "execution_count": 1464,
   "id": "533ba97b",
   "metadata": {},
   "outputs": [],
   "source": [
    "# group Flujo por empresa\n",
    "df14 = Flujo.groupby(['Empresa'])['Flujo'].sum().reset_index()\n",
    "df14['Fuente'] = \"Flujo\"\n",
    "df14 = df14.rename(columns = {'Flujo':'Valor'})"
   ]
  },
  {
   "cell_type": "markdown",
   "id": "ecc2bd14",
   "metadata": {},
   "source": [
    "#### A partir de la tabla de Utilidad y Ventas, se genera una nueva  tabla \"Costo\""
   ]
  },
  {
   "cell_type": "code",
   "execution_count": 1465,
   "id": "922233a0",
   "metadata": {},
   "outputs": [],
   "source": [
    "# Combinar Utilidad y Ventas\n",
    "df_merged = pd.merge(df, df1, on=['Empresa', 'Nivel 2'], how='left')\n",
    "\n",
    "\n",
    "# Calcular Costo como diferencia de Ventas e Utilidad\n",
    "df_merged['Costo'] = df_merged['Ventas'] - df_merged['Utilidad']\n",
    "\n",
    "# Agrupar Costo por Empresa\n",
    "df6 = df_merged.groupby(['Empresa','Nivel 2'])['Costo'].sum().reset_index()\n",
    "df6['Fuente'] = \"Costo\"\n",
    "df6 = df6.rename(columns = {'Costo':'Valor'})"
   ]
  },
  {
   "cell_type": "markdown",
   "id": "8f5d9f97",
   "metadata": {},
   "source": [
    "#### Agregar columna Fuente en Ventas e Utilidad;\n",
    "Se agregó después porque esas columnas iban a utilizarse para crear la tabla de costos en el paso previo"
   ]
  },
  {
   "cell_type": "code",
   "execution_count": 1466,
   "id": "d32f108f",
   "metadata": {},
   "outputs": [],
   "source": [
    "df_ = df.rename(columns = {'Ventas':'Valor'})\n",
    "df1_ = df1.rename(columns = {'Utilidad':'Valor'})"
   ]
  },
  {
   "cell_type": "markdown",
   "id": "bd8172cc",
   "metadata": {},
   "source": [
    "##### Inventario IQC valor"
   ]
  },
  {
   "cell_type": "code",
   "execution_count": 1467,
   "id": "d6562e54",
   "metadata": {},
   "outputs": [],
   "source": [
    "# group Inventario IQC por empresa\n",
    "df7 = IQChemicals_mp_otros.groupby(['Empresa','Nivel 2'])['Inventario_IQC_Valor'].sum().reset_index()\n",
    "df7['Fuente'] = \"Inventario_IQC_Valor\"\n",
    "df7 = df7.rename(columns = {'Inventario_IQC_Valor':'Valor'})"
   ]
  },
  {
   "cell_type": "code",
   "execution_count": 1468,
   "id": "2f25daf8",
   "metadata": {},
   "outputs": [],
   "source": [
    "# group Cartera corriente\n",
    "df8 = Cartera_corriente.groupby(['Empresa','Nivel 2'])['Cartera_corriente'].sum().reset_index()\n",
    "df8['Fuente'] = \"Cartera_corriente\"\n",
    "df8 = df8.rename(columns = {'Cartera_corriente':'Valor'})\n"
   ]
  },
  {
   "cell_type": "code",
   "execution_count": 1469,
   "id": "3b7725c6",
   "metadata": {},
   "outputs": [],
   "source": [
    "# group CxP\n",
    "df9 = CxP.groupby(['Empresa','Nivel 2'])['CxP'].sum().reset_index()\n",
    "df9['Fuente'] = \"CxP\"\n",
    "df9 = df9.rename(columns = {'CxP':'Valor'})"
   ]
  },
  {
   "cell_type": "markdown",
   "id": "b34ce418",
   "metadata": {},
   "source": [
    "# Componentes financieros consolidados"
   ]
  },
  {
   "cell_type": "code",
   "execution_count": 1470,
   "id": "1552d731",
   "metadata": {},
   "outputs": [],
   "source": [
    "dfs = [df_, df1_, df2, df3, df4, df5, df6, df7, df8, df9, df10,df11,df12,df13,df14]\n",
    "cols = ['Empresa', 'Nivel 2', 'Fuente', 'Valor']\n",
    "df_merged = pd.concat(dfs, axis=0)\n",
    "\n"
   ]
  },
  {
   "cell_type": "code",
   "execution_count": 1471,
   "id": "73c6ac90",
   "metadata": {},
   "outputs": [
    {
     "data": {
      "text/plain": [
       "array(['CAC', 'INT', 'IQCHEM', 'MX', 'SUD', 'CHEMI', 'LASA', 'RETENUM',\n",
       "       'ASESORIA', 'ENFOKT', 'SACH', 'IQC'], dtype=object)"
      ]
     },
     "execution_count": 1471,
     "metadata": {},
     "output_type": "execute_result"
    }
   ],
   "source": [
    "df_merged.Empresa.unique()"
   ]
  },
  {
   "cell_type": "markdown",
   "id": "21e3faf0",
   "metadata": {},
   "source": [
    "# Categorías de componentes"
   ]
  },
  {
   "cell_type": "code",
   "execution_count": 1472,
   "id": "78e3384d",
   "metadata": {},
   "outputs": [],
   "source": [
    "# Define the conditions and categories\n",
    "conditions = [df_merged['Fuente'].isin(['Ventas', 'Utilidad']),\n",
    "    df_merged['Fuente'].isin(['Egresos_monto', 'Costo']),\n",
    "    df_merged['Fuente'].isin(['Cartera_vencida', 'Cartera_corriente','Inventario_valor', 'Pendiente','Inventario_IQC_Valor']),\n",
    "    df_merged['Fuente'].isin(['Solicitado']),\n",
    "    df_merged['Fuente'].isin(['F 2Q U']),\n",
    "    df_merged['Fuente'].isin(['F 2Q V']),         \n",
    "    df_merged['Fuente'].isin(['CxP','Cobranza','Flujo']),\n",
    "\n",
    "]\n",
    "\n",
    "categories = ['01 Ingresos','02 Egresos','03 Inventario y Cartera','Sol','F 2Q U','F 2Q V','Flujo']\n",
    "\n",
    "# Apply the conditions and categories to create a new \"Category\" column\n",
    "df_merged['Categoria'] = np.select(conditions, categories)"
   ]
  },
  {
   "cell_type": "markdown",
   "id": "f7d73060",
   "metadata": {},
   "source": [
    "# Exportar tabla para uso en tableros o tablas dinámicas"
   ]
  },
  {
   "cell_type": "code",
   "execution_count": 1473,
   "id": "5b957750",
   "metadata": {},
   "outputs": [],
   "source": [
    "df_merged['Nivel 2'] = df_merged['Nivel 2'].replace(['Nutrición', 'Otro', 'Maquila', 'Coadyuvante'], 'Otros')\n"
   ]
  },
  {
   "cell_type": "code",
   "execution_count": 1474,
   "id": "739d643b",
   "metadata": {},
   "outputs": [],
   "source": [
    "# Remove Empresas ASESORIA and ENFOKT\n",
    "df_merged = df_merged[~df_merged['Empresa'].isin(['ASESORIA', 'ENFOKT'])]"
   ]
  },
  {
   "cell_type": "code",
   "execution_count": 1475,
   "id": "9b78c289",
   "metadata": {},
   "outputs": [],
   "source": [
    "df_merged.to_csv('Componentes_financieros_nivel_2.csv')"
   ]
  },
  {
   "cell_type": "markdown",
   "id": "8e3be5d0",
   "metadata": {},
   "source": [
    "# Componentes consolidados"
   ]
  },
  {
   "cell_type": "code",
   "execution_count": 1476,
   "id": "48a4b8a0",
   "metadata": {},
   "outputs": [],
   "source": [
    "# group by \"Component\" and \"Category\", format the \"Value\" column as currency, and sum the values\n",
    "df_merged['Valor (M)'] = df_merged['Valor'].apply(lambda x: x / 1000000)\n",
    "\n",
    "# group by \"Component\" and \"Category\", format the \"Value\" column as currency, and sum the values\n",
    "Componentes = df_merged.groupby(['Categoria', 'Fuente'])['Valor (M)'].apply(lambda x: x.sum()).reset_index()\n",
    "\n",
    "# pivot the table to put the \"Category\" values as columns\n",
    "Componentes_ = Componentes.pivot(index='Fuente', columns='Categoria', values='Valor (M)')\n",
    "Componentes_ = Componentes_.fillna(0)"
   ]
  },
  {
   "cell_type": "code",
   "execution_count": 1477,
   "id": "bf21381f",
   "metadata": {},
   "outputs": [
    {
     "data": {
      "text/plain": [
       "<matplotlib.legend.Legend at 0x237edc265b0>"
      ]
     },
     "execution_count": 1477,
     "metadata": {},
     "output_type": "execute_result"
    },
    {
     "data": {
      "image/png": "[encoded data removed]",
      "text/plain": [
       "<Figure size 432x288 with 1 Axes>"
      ]
     },
     "metadata": {
      "needs_background": "light"
     },
     "output_type": "display_data"
    }
   ],
   "source": [
    "\n",
    "# create a stacked bar plot of the DataFrame\n",
    "ax = Componentes_.plot.bar(stacked=True)\n",
    "\n",
    "# customize the plot labels and legend\n",
    "ax.set_xlabel('Empresa')\n",
    "ax.set_ylabel('Valor (M)')\n",
    "ax.set_title('Valor (M) por Empresa y Fuente')\n",
    "ax.legend(title='Fuente', bbox_to_anchor=(1.0, 1.0))\n"
   ]
  },
  {
   "cell_type": "code",
   "execution_count": 1478,
   "id": "be51fdfd",
   "metadata": {},
   "outputs": [
    {
     "name": "stdout",
     "output_type": "stream",
     "text": [
      "Categoria            01 Ingresos 02 Egresos 03 Inventario y Cartera F 2Q U  \\\n",
      "Fuente                                                                       \n",
      "Cartera_corriente           $0.0       $0.0                   $60.9   $0.0   \n",
      "Cartera_vencida             $0.0       $0.0                   $14.9   $0.0   \n",
      "Cobranza                    $0.0       $0.0                    $0.0   $0.0   \n",
      "Costo                       $0.0      $39.9                    $0.0   $0.0   \n",
      "CxP                         $0.0       $0.0                    $0.0   $0.0   \n",
      "Egresos_monto               $0.0      $50.8                    $0.0   $0.0   \n",
      "F 2Q U                      $0.0       $0.0                    $0.0  $83.7   \n",
      "F 2Q V                      $0.0       $0.0                    $0.0   $0.0   \n",
      "Flujo                       $0.0       $0.0                    $0.0   $0.0   \n",
      "Inventario_IQC_Valor        $0.0       $0.0                   $23.3   $0.0   \n",
      "Inventario_valor            $0.0       $0.0                   $25.0   $0.0   \n",
      "Pendiente                   $0.0       $0.0                    $2.4   $0.0   \n",
      "Solicitado                  $0.0       $0.0                    $0.0   $0.0   \n",
      "Utilidad                   $79.2       $0.0                    $0.0   $0.0   \n",
      "Ventas                    $119.0       $0.0                    $0.0   $0.0   \n",
      "\n",
      "Categoria             F 2Q V   Flujo    Sol  \n",
      "Fuente                                       \n",
      "Cartera_corriente       $0.0    $0.0   $0.0  \n",
      "Cartera_vencida         $0.0    $0.0   $0.0  \n",
      "Cobranza                $0.0  $107.3   $0.0  \n",
      "Costo                   $0.0    $0.0   $0.0  \n",
      "CxP                     $0.0   $46.3   $0.0  \n",
      "Egresos_monto           $0.0    $0.0   $0.0  \n",
      "F 2Q U                  $0.0    $0.0   $0.0  \n",
      "F 2Q V                $138.9    $0.0   $0.0  \n",
      "Flujo                   $0.0   $56.1   $0.0  \n",
      "Inventario_IQC_Valor    $0.0    $0.0   $0.0  \n",
      "Inventario_valor        $0.0    $0.0   $0.0  \n",
      "Pendiente               $0.0    $0.0   $0.0  \n",
      "Solicitado              $0.0    $0.0  $39.0  \n",
      "Utilidad                $0.0    $0.0   $0.0  \n",
      "Ventas                  $0.0    $0.0   $0.0  \n"
     ]
    }
   ],
   "source": [
    "# format the currency columns\n",
    "for col in Componentes_.columns:\n",
    "    Componentes_[col] = Componentes_[col].apply(lambda x: \"${:,.1f}\".format(x))\n",
    "\n",
    "# print the result\n",
    "print(Componentes_)"
   ]
  },
  {
   "cell_type": "code",
   "execution_count": 1479,
   "id": "a72f4123",
   "metadata": {},
   "outputs": [],
   "source": [
    "### Resumen de categorías consideradas"
   ]
  },
  {
   "cell_type": "code",
   "execution_count": 1480,
   "id": "6a38a270",
   "metadata": {},
   "outputs": [
    {
     "name": "stdout",
     "output_type": "stream",
     "text": [
      "Categoria                              Egr F 2Q U F 2Q V  Flujo Inv y Cart  \\\n",
      "Fuente  Nivel 2                                                              \n",
      "Cart Ok   VENCIDA                     $0.0   $0.0   $0.0   $0.0      $14.9   \n",
      "         EN EL MES                    $0.0   $0.0   $0.0   $0.0      $24.6   \n",
      "        A 30 DIAS                     $0.0   $0.0   $0.0   $0.0      $29.5   \n",
      "        A 60 DIAS                     $0.0   $0.0   $0.0   $0.0       $4.9   \n",
      "        A 90 +                        $0.0   $0.0   $0.0   $0.0       $1.8   \n",
      "Cost    Bioestimulante                $8.2   $0.0   $0.0   $0.0       $0.0   \n",
      "        Cito                          $8.7   $0.0   $0.0   $0.0       $0.0   \n",
      "        GA                            $7.9   $0.0   $0.0   $0.0       $0.0   \n",
      "        Otros                         $5.9   $0.0   $0.0   $0.0       $0.0   \n",
      "        Raíz/ suelo                   $9.2   $0.0   $0.0   $0.0       $0.0   \n",
      "CxP     CONSUMIBLES                   $0.0   $0.0   $0.0  $10.4       $0.0   \n",
      "        GASTOS FIJOS                  $0.0   $0.0   $0.0  $11.3       $0.0   \n",
      "        INVERSIONES                   $0.0   $0.0   $0.0   $0.0       $0.0   \n",
      "        MATERIA PRIMA                 $0.0   $0.0   $0.0  $19.6       $0.0   \n",
      "        PROMOCIONALES                 $0.0   $0.0   $0.0   $0.9       $0.0   \n",
      "        SERVICIOS                     $0.0   $0.0   $0.0   $4.2       $0.0   \n",
      "F 2Q U  Bioestimulante                $0.0  $12.4   $0.0   $0.0       $0.0   \n",
      "        Cito                          $0.0  $37.2   $0.0   $0.0       $0.0   \n",
      "        GA                            $0.0   $6.7   $0.0   $0.0       $0.0   \n",
      "        Otros                         $0.0  $12.0   $0.0   $0.0       $0.0   \n",
      "        Raíz/ suelo                   $0.0  $15.4   $0.0   $0.0       $0.0   \n",
      "F 2Q V  Bioestimulante                $0.0   $0.0  $20.5   $0.0       $0.0   \n",
      "        Cito                          $0.0   $0.0  $47.9   $0.0       $0.0   \n",
      "        GA                            $0.0   $0.0  $20.5   $0.0       $0.0   \n",
      "        Otros                         $0.0   $0.0  $25.7   $0.0       $0.0   \n",
      "        Raíz/ suelo                   $0.0   $0.0  $24.3   $0.0       $0.0   \n",
      "Gasto   ADMINISTRACION                $0.9   $0.0   $0.0   $0.0       $0.0   \n",
      "        FLETES Y REGISTROS            $2.7   $0.0   $0.0   $0.0       $0.0   \n",
      "        OFICINA Y EQUIPO DE TRABAJO   $6.8   $0.0   $0.0   $0.0       $0.0   \n",
      "        PERSONAL                     $30.2   $0.0   $0.0   $0.0       $0.0   \n",
      "        VARIABLES                    $10.1   $0.0   $0.0   $0.0       $0.0   \n",
      "Inv     A                             $0.0   $0.0   $0.0   $0.0      $11.6   \n",
      "        B                             $0.0   $0.0   $0.0   $0.0       $0.5   \n",
      "        C                             $0.0   $0.0   $0.0   $0.0      $12.7   \n",
      "        D                             $0.0   $0.0   $0.0   $0.0       $0.1   \n",
      "Inv IQC CONSIGNA                      $0.0   $0.0   $0.0   $0.0       $0.8   \n",
      "        EMPAQUE                       $0.0   $0.0   $0.0   $0.0       $4.2   \n",
      "        EN PROCESO                    $0.0   $0.0   $0.0   $0.0       $0.9   \n",
      "        EN TRANSITO                   $0.0   $0.0   $0.0   $0.0       $0.8   \n",
      "        ETIQUETAS                     $0.0   $0.0   $0.0   $0.0       $0.7   \n",
      "        INDIRECTOS                    $0.0   $0.0   $0.0   $0.0       $0.0   \n",
      "        MATERIA PRIMA                 $0.0   $0.0   $0.0   $0.0      $13.1   \n",
      "        OBSOLETO                      $0.0   $0.0   $0.0   $0.0       $1.2   \n",
      "        PRODUCTO TERMINADO            $0.0   $0.0   $0.0   $0.0       $1.5   \n",
      "        TEMPORAL IQCHEM               $0.0   $0.0   $0.0   $0.0       $0.0   \n",
      "PPE     Bioestimulante                $0.0   $0.0   $0.0   $0.0       $0.5   \n",
      "        Cito                          $0.0   $0.0   $0.0   $0.0       $0.9   \n",
      "        GA                            $0.0   $0.0   $0.0   $0.0       $0.0   \n",
      "        Otros                         $0.0   $0.0   $0.0   $0.0       $0.0   \n",
      "        Raíz/ suelo                   $0.0   $0.0   $0.0   $0.0       $1.0   \n",
      "Sol     Bioestimulante                $0.0   $0.0   $0.0   $0.0       $0.0   \n",
      "        Cito                          $0.0   $0.0   $0.0   $0.0       $0.0   \n",
      "        GA                            $0.0   $0.0   $0.0   $0.0       $0.0   \n",
      "        Otros                         $0.0   $0.0   $0.0   $0.0       $0.0   \n",
      "        Raíz/ suelo                   $0.0   $0.0   $0.0   $0.0       $0.0   \n",
      "Uti     Bioestimulante                $0.0   $0.0   $0.0   $0.0       $0.0   \n",
      "        Cito                          $0.0   $0.0   $0.0   $0.0       $0.0   \n",
      "        GA                            $0.0   $0.0   $0.0   $0.0       $0.0   \n",
      "        Otros                         $0.0   $0.0   $0.0   $0.0       $0.0   \n",
      "        Raíz/ suelo                   $0.0   $0.0   $0.0   $0.0       $0.0   \n",
      "\n",
      "Categoria                                S Ut y V  \n",
      "Fuente  Nivel 2                                    \n",
      "Cart Ok   VENCIDA                     $0.0   $0.0  \n",
      "         EN EL MES                    $0.0   $0.0  \n",
      "        A 30 DIAS                     $0.0   $0.0  \n",
      "        A 60 DIAS                     $0.0   $0.0  \n",
      "        A 90 +                        $0.0   $0.0  \n",
      "Cost    Bioestimulante                $0.0   $0.0  \n",
      "        Cito                          $0.0   $0.0  \n",
      "        GA                            $0.0   $0.0  \n",
      "        Otros                         $0.0   $0.0  \n",
      "        Raíz/ suelo                   $0.0   $0.0  \n",
      "CxP     CONSUMIBLES                   $0.0   $0.0  \n",
      "        GASTOS FIJOS                  $0.0   $0.0  \n",
      "        INVERSIONES                   $0.0   $0.0  \n",
      "        MATERIA PRIMA                 $0.0   $0.0  \n",
      "        PROMOCIONALES                 $0.0   $0.0  \n",
      "        SERVICIOS                     $0.0   $0.0  \n",
      "F 2Q U  Bioestimulante                $0.0   $0.0  \n",
      "        Cito                          $0.0   $0.0  \n",
      "        GA                            $0.0   $0.0  \n",
      "        Otros                         $0.0   $0.0  \n",
      "        Raíz/ suelo                   $0.0   $0.0  \n",
      "F 2Q V  Bioestimulante                $0.0   $0.0  \n",
      "        Cito                          $0.0   $0.0  \n",
      "        GA                            $0.0   $0.0  \n",
      "        Otros                         $0.0   $0.0  \n",
      "        Raíz/ suelo                   $0.0   $0.0  \n",
      "Gasto   ADMINISTRACION                $0.0   $0.0  \n",
      "        FLETES Y REGISTROS            $0.0   $0.0  \n",
      "        OFICINA Y EQUIPO DE TRABAJO   $0.0   $0.0  \n",
      "        PERSONAL                      $0.0   $0.0  \n",
      "        VARIABLES                     $0.0   $0.0  \n",
      "Inv     A                             $0.0   $0.0  \n",
      "        B                             $0.0   $0.0  \n",
      "        C                             $0.0   $0.0  \n",
      "        D                             $0.0   $0.0  \n",
      "Inv IQC CONSIGNA                      $0.0   $0.0  \n",
      "        EMPAQUE                       $0.0   $0.0  \n",
      "        EN PROCESO                    $0.0   $0.0  \n",
      "        EN TRANSITO                   $0.0   $0.0  \n",
      "        ETIQUETAS                     $0.0   $0.0  \n",
      "        INDIRECTOS                    $0.0   $0.0  \n",
      "        MATERIA PRIMA                 $0.0   $0.0  \n",
      "        OBSOLETO                      $0.0   $0.0  \n",
      "        PRODUCTO TERMINADO            $0.0   $0.0  \n",
      "        TEMPORAL IQCHEM               $0.0   $0.0  \n",
      "PPE     Bioestimulante                $0.0   $0.0  \n",
      "        Cito                          $0.0   $0.0  \n",
      "        GA                            $0.0   $0.0  \n",
      "        Otros                         $0.0   $0.0  \n",
      "        Raíz/ suelo                   $0.0   $0.0  \n",
      "Sol     Bioestimulante                $9.2   $0.0  \n",
      "        Cito                         $13.6   $0.0  \n",
      "        GA                            $0.0   $0.0  \n",
      "        Otros                         $5.9   $0.0  \n",
      "        Raíz/ suelo                  $10.3   $0.0  \n",
      "Uti     Bioestimulante                $0.0   $9.8  \n",
      "        Cito                          $0.0  $35.7  \n",
      "        GA                            $0.0   $6.0  \n",
      "        Otros                         $0.0   $5.9  \n",
      "        Raíz/ suelo                   $0.0  $21.7  \n"
     ]
    }
   ],
   "source": [
    "# create a dictionary to map the old values to the new values\n",
    "fuente_dict = {'Ventas': 'Vent', 'Utilidad': 'Uti', 'Inventario_valor': 'Inv', 'Cartera_vencida': 'Cart Ok', 'Egresos_monto': 'Gasto', 'Pendiente': 'PPE', 'Costo': 'Cost', 'Inventario_IQC_Valor': 'Inv IQC', 'Cartera_corriente': 'Cart Ok', 'CxP': 'CxP', 'Solicitado':'Sol'}\n",
    "fuente_dict_ = {'01 Ingresos': 'Ut y V', '02 Egresos': 'Egr', '03 Inventario y Cartera': 'Inv y Cart', 'Sol':'S'}\n",
    "\n",
    "# replace the old values with the new values using the dictionary\n",
    "df_merged['Fuente'] = df_merged['Fuente'].replace(fuente_dict)\n",
    "df_merged['Categoria'] = df_merged['Categoria'].replace(fuente_dict_)\n",
    "\n",
    "Detalle = df_merged.groupby(['Fuente', 'Nivel 2','Categoria'])['Valor (M)'].apply(lambda x: x.sum()).reset_index()\n",
    "\n",
    "# pivot the table to put the \"Category\" values as columns\n",
    "Detalle_ = Detalle.pivot(index=['Fuente','Nivel 2'], columns='Categoria', values='Valor (M)')\n",
    "\n",
    "Detalle_ = Detalle_.fillna(0)\n",
    "# format the currency columns\n",
    "for col in Detalle_.columns:\n",
    "    Detalle_[col] = Detalle_[col].apply(lambda x: \"${:,.1f}\".format(x))\n",
    "\n",
    "# print the result\n",
    "print(Detalle_.head(60))\n",
    "Detalle_.to_csv('Resumen_comp_financieros.csv')"
   ]
  },
  {
   "cell_type": "code",
   "execution_count": 1481,
   "id": "4f92227d",
   "metadata": {},
   "outputs": [],
   "source": [
    "####Resumen de categorías por empresa"
   ]
  },
  {
   "cell_type": "code",
   "execution_count": 1482,
   "id": "5bdadc57",
   "metadata": {},
   "outputs": [],
   "source": [
    "# group by \"Component\" and \"Category\", format the \"Value\" column as currency, and sum the values\n",
    "Componentes_p_Emp = df_merged.groupby(['Fuente', 'Empresa'])['Valor (M)'].apply(lambda x: x.sum()).reset_index()\n",
    "\n",
    "# pivot the table to put the \"Category\" values as columns\n",
    "Componentes_p_Emp_ = Componentes_p_Emp.pivot(index='Empresa', columns='Fuente', values='Valor (M)')"
   ]
  },
  {
   "cell_type": "code",
   "execution_count": 1483,
   "id": "75481650",
   "metadata": {},
   "outputs": [
    {
     "name": "stdout",
     "output_type": "stream",
     "text": [
      "Fuente  Cart Ok Cobranza   Cost    CxP F 2Q U F 2Q V  Flujo  Gasto    Inv  \\\n",
      "Empresa                                                                     \n",
      "CAC       $17.5    $21.3   $7.8   $1.2  $12.1  $27.7   $8.0   $5.7   $1.9   \n",
      "CHEMI      $0.0     $0.0   $0.0  $23.3   $0.0   $0.0   $0.0   $5.4   $0.0   \n",
      "INT        $5.0     $1.9   $1.3   $0.9   $2.0   $3.1  $-0.7   $1.6   $0.1   \n",
      "IQC        $0.0     $5.1   $0.0   $0.0   $5.0   $8.3  $-0.0   $0.0   $0.0   \n",
      "IQCHEM     $9.1     $0.0   $2.3   $0.6   $0.0   $0.0   $0.0   $4.0   $8.4   \n",
      "LASA       $0.0     $0.0   $0.0   $1.7   $0.0   $0.0   $0.0   $8.0   $0.0   \n",
      "MX        $37.4    $60.2  $27.4   $3.1  $64.6  $99.8  $34.0  $10.7  $10.1   \n",
      "RETENUM    $0.0     $0.0   $0.0  $10.3   $0.0   $0.0   $0.0   $9.7   $0.0   \n",
      "SACH       $0.0     $0.0   $0.0   $3.1   $0.0   $0.0   $0.0   $0.0   $0.0   \n",
      "SUD        $6.7    $18.7   $1.0   $2.0   $0.0   $0.0  $14.9   $5.6   $4.4   \n",
      "\n",
      "Fuente  Inv IQC   PPE    Sol    Uti   Vent  \n",
      "Empresa                                     \n",
      "CAC        $0.0  $0.0   $0.8   $8.2  $16.0  \n",
      "CHEMI     $23.3  $0.0   $0.0   $0.0   $0.0  \n",
      "INT        $0.0  $0.0   $0.6   $2.4   $3.7  \n",
      "IQC        $0.0  $0.0   $0.0   $0.0   $0.0  \n",
      "IQCHEM     $0.0  $0.1   $1.2   $5.6   $8.0  \n",
      "LASA       $0.0  $0.0   $0.0   $0.0   $0.0  \n",
      "MX         $0.0  $2.3  $35.1  $57.7  $85.1  \n",
      "RETENUM    $0.0  $0.0   $0.0   $0.0   $0.0  \n",
      "SACH       $0.0  $0.0   $0.0   $0.0   $0.0  \n",
      "SUD        $0.0  $0.0   $1.3   $5.2   $6.2  \n"
     ]
    }
   ],
   "source": [
    "Componentes_p_Emp_ = Componentes_p_Emp_.fillna(0)\n",
    "\n",
    "# format the currency columns\n",
    "for col in Componentes_p_Emp_.columns:\n",
    "    Componentes_p_Emp_[col] = Componentes_p_Emp_[col].apply(lambda x: \"${:,.1f}\".format(x))\n",
    "\n",
    "# print the result\n",
    "Componentes_p_Emp_ = Componentes_p_Emp_.fillna(0)\n",
    "print(Componentes_p_Emp_)"
   ]
  },
  {
   "cell_type": "code",
   "execution_count": 1484,
   "id": "c063afe4",
   "metadata": {},
   "outputs": [],
   "source": [
    "# Remove Fuente 'Vent'\n",
    "df_merged = df_merged[df_merged['Fuente'] != 'Vent']\n",
    "\n",
    "\n"
   ]
  },
  {
   "cell_type": "code",
   "execution_count": 1485,
   "id": "219c9be8",
   "metadata": {},
   "outputs": [],
   "source": [
    "from matplotlib.ticker import MultipleLocator\n",
    "\n",
    "# Group by Empresa, Categoria, and Fuente, and aggregate by Valor\n",
    "df_grouped = df_merged.groupby(['Empresa', 'Categoria', 'Fuente'])['Valor'].sum().reset_index()\n",
    "\n",
    "# Pivot the data to create a multi-index dataframe\n",
    "df_pivot = df_grouped.pivot(index=['Empresa', 'Categoria'], columns='Fuente', values='Valor')\n",
    "\n",
    "# Format the values in millions with 2 decimals\n",
    "df_pivot = df_pivot.apply(lambda x: x/1000000).round(2)\n",
    "\n",
    "# Define the order of the companies\n",
    "company_order = ['MX', 'CAC', 'IQCHEM', 'SUD', 'INT', 'CHEMI', 'RETENUM', 'LASA', 'SACH']\n",
    "\n",
    "\n"
   ]
  },
  {
   "cell_type": "code",
   "execution_count": 1486,
   "id": "aa25654e",
   "metadata": {
    "scrolled": true
   },
   "outputs": [
    {
     "data": {
      "image/png": "[encoded data removed]",
      "text/plain": [
       "<Figure size 1800x1296 with 9 Axes>"
      ]
     },
     "metadata": {
      "needs_background": "light"
     },
     "output_type": "display_data"
    },
    {
     "name": "stdout",
     "output_type": "stream",
     "text": [
      "S = Solicitado; Ut y V = Utilidad y Ventas; Egr = Egresos; Inv y Cart = Inventario y Cartera\n"
     ]
    }
   ],
   "source": [
    "import matplotlib as mpl\n",
    "\n",
    "# Define the order of the companies\n",
    "company_order = ['MX', 'CAC', 'IQCHEM', 'SUD', 'INT', 'CHEMI', 'RETENUM', 'LASA', 'SACH']\n",
    "\n",
    "# Create a figure with subplots for each company\n",
    "fig, axs = plt.subplots(nrows=3, ncols=3, figsize=(25, 18), sharey=True)\n",
    "\n",
    "# Iterate over each company and subplot\n",
    "for i, empresa in enumerate(company_order):\n",
    "    ax = axs.flatten()[i]\n",
    "    df_pivot.loc[empresa].plot(kind='bar', stacked=True, ax=ax)\n",
    "    ax.set_title(empresa, fontsize=16)\n",
    "    ax.set_xlabel('')\n",
    "    ax.set_ylabel('Valor en millones de USD')\n",
    "    ax.yaxis.set_major_formatter(mpl.ticker.StrMethodFormatter('${x:,.2f}'))\n",
    "    ax.yaxis.set_major_locator(mpl.ticker.MultipleLocator(5))\n",
    "    ax.grid(axis='y', linestyle='--')\n",
    "    ax.legend().set_visible(False)\n",
    "    \n",
    "# Remove the remaining subplots\n",
    "for i in range(len(company_order), len(axs.flatten())):\n",
    "    fig.delaxes(axs.flatten()[i])\n",
    "\n",
    "# Add a subplot for the legend and display it\n",
    "handles, labels = axs[0, 0].get_legend_handles_labels()\n",
    "fig.legend(handles, labels, loc='lower center', ncol=4, fontsize=12, title='Fuente', title_fontsize=14)\n",
    "plt.subplots_adjust(bottom=0.2)    \n",
    "\n",
    "# Adjust the spacing between subplots\n",
    "fig.subplots_adjust(hspace=0.4)\n",
    "\n",
    "# Display the plot\n",
    "plt.savefig('prueba.png')\n",
    "plt.show()\n",
    "print(\"S = Solicitado; Ut y V = Utilidad y Ventas; Egr = Egresos; Inv y Cart = Inventario y Cartera\")\n",
    "\n"
   ]
  },
  {
   "cell_type": "code",
   "execution_count": null,
   "id": "9ff7206f",
   "metadata": {},
   "outputs": [],
   "source": []
  }
 ],
 "metadata": {
  "hide_input": false,
  "kernelspec": {
   "display_name": "Python 3",
   "language": "python",
   "name": "python3"
  },
  "language_info": {
   "codemirror_mode": {
    "name": "ipython",
    "version": 3
   },
   "file_extension": ".py",
   "mimetype": "text/x-python",
   "name": "python",
   "nbconvert_exporter": "python",
   "pygments_lexer": "ipython3",
   "version": "3.8.8"
  }
 },
 "nbformat": 4,
 "nbformat_minor": 5
}
